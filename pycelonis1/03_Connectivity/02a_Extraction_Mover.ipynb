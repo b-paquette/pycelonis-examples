{
 "cells": [
  {
   "cell_type": "markdown",
   "metadata": {},
   "source": [
    "# Extraction Mover"
   ]
  },
  {
   "cell_type": "markdown",
   "metadata": {},
   "source": [
    "**This tutorial shows how to copy a simple extraction from one team/ data job to another one, independent of the cluster.**\n",
    "\n"
   ]
  },
  {
   "cell_type": "markdown",
   "metadata": {},
   "source": [
    "**To do so we first need to connect to the source data model.**"
   ]
  },
  {
   "cell_type": "code",
   "execution_count": null,
   "metadata": {},
   "outputs": [],
   "source": [
    "import pycelonis\n",
    "from pycelonis import get_celonis\n",
    "\n",
    "c_source = get_celonis(\"URL to the team from which you want to copy.\", \"Specify a valid API key for your source cloud team.\")\n",
    "# All IDs required can be found within the URLs when displaying the related objects in the EMS.\n",
    "source_data_pool = c_source.pools.find('Name or ID of the source data pool.')\n",
    "source_data_job = source_data_pool.data_jobs.find(\"Name or ID of the source data job.\")\n",
    "source_extraction = source_data_job.extractions.ids['ID of the source extraction task.']"
   ]
  },
  {
   "cell_type": "code",
   "execution_count": null,
   "metadata": {},
   "outputs": [],
   "source": [
    "# Print source variables\n",
    "print(source_data_pool)\n",
    "print(source_data_job)\n",
    "print(source_extraction)"
   ]
  },
  {
   "cell_type": "markdown",
   "metadata": {},
   "source": [
    "**In the next step we connect to the target data pool.**"
   ]
  },
  {
   "cell_type": "code",
   "execution_count": null,
   "metadata": {},
   "outputs": [],
   "source": [
    "c_target = get_celonis(\"URL to cloud team where you want to copy to.\", \"Specify a valid API key for your target cloud team.\")\n",
    "target_data_pool = c_target.pools.find(\"Name or ID of the target data pool.\")\n",
    "target_data_job = target_data_pool.data_jobs.find(\"Name or ID of the target data job.\")"
   ]
  },
  {
   "cell_type": "code",
   "execution_count": null,
   "metadata": {},
   "outputs": [],
   "source": [
    "# Print target variables\n",
    "print(target_data_pool)\n",
    "print(target_data_job)"
   ]
  },
  {
   "cell_type": "markdown",
   "metadata": {},
   "source": [
    "**Create target extraction.**"
   ]
  },
  {
   "cell_type": "code",
   "execution_count": null,
   "metadata": {},
   "outputs": [],
   "source": [
    "# Print source extraction name and type\n",
    "print(source_extraction.name)"
   ]
  },
  {
   "cell_type": "code",
   "execution_count": null,
   "metadata": {},
   "outputs": [],
   "source": [
    "target_extraction = target_data_job.create_extraction(source_extraction.name)\n",
    "print(target_extraction.name)"
   ]
  },
  {
   "cell_type": "markdown",
   "metadata": {},
   "source": [
    "**In this step we save all source global parameter IDs in a dictionary and overwrite them with the target global parameter ID if the parameter exists already in the target data pool.**"
   ]
  },
  {
   "cell_type": "code",
   "execution_count": null,
   "metadata": {},
   "outputs": [],
   "source": [
    "global_vars = {}\n",
    "for source_var in source_data_pool.variables:                                                          # loop through global parameters of source data pool\n",
    "    global_vars.update({source_var.id: None})                                                          # save ID of source global parameter\n",
    "    for target_var in target_data_pool.variables:                                                      # loop through the global parameters of target data pool\n",
    "        if source_var.data['placeholder'].upper() == target_var.data['placeholder'].upper():           # if the placeholder of a source global parameter and a target global parameter match\n",
    "            global_vars.update({source_var.id: target_var.id})                                         # match the saved ID of source global parameter wih the target global parameter ID\n",
    "print(\"Global parameter configurations saved.\")"
   ]
  },
  {
   "cell_type": "markdown",
   "metadata": {},
   "source": [
    "**This section serves to create the extraction parameters.**"
   ]
  },
  {
   "cell_type": "code",
   "execution_count": null,
   "metadata": {},
   "outputs": [],
   "source": [
    "for source_ex_para in source_extraction.variables:                                                                              # loop through the source extraction parameters\n",
    "    if source_ex_para['defaultSettings'] is not None:                                                                           # create the connection for the default value to the target global parameters\n",
    "        if source_ex_para['defaultSettings']['poolVariableId'] is not None:\n",
    "            target_id = global_vars.get(source_ex_para['defaultSettings']['poolVariableId'])              \n",
    "            if target_id is None:\n",
    "                para = target_data_pool.create_pool_parameter(source_data_pool.variables.find(source_ex_para['defaultSettings']['poolVariableId'])) # create the target global parameter if it does not exist yet\n",
    "                print(\"Pool Parameter '\" + para.name + \"' created.\")\n",
    "                target_id = para.id\n",
    "                global_vars[source_ex_para['defaultSettings']['poolVariableId']] = target_id\n",
    "            source_ex_para['defaultSettings']['poolVariableId'] = target_id\n",
    "    if source_ex_para['settings'] is not None:                                                                                   # create the connection for the value to the target global parameters\n",
    "        if source_ex_para['settings']['poolVariableId'] is not None:\n",
    "            target_id = global_vars.get(source_ex_para['settings']['poolVariableId'])\n",
    "            if target_id is None:\n",
    "                para = target_data_pool.create_pool_parameter(source_data_pool.variables.find(source_ex_para['settings']['poolVariableId']))        # create the target global parameter if it does not exist yet\n",
    "                print(\"Pool Parameter '\" + para.name + \"' created.\")\n",
    "                target_id = para.id\n",
    "                global_vars[source_ex_para['settings']['poolVariableId']] = target_id\n",
    "            source_ex_para['settings']['poolVariableId'] = target_id\n",
    "         \n",
    "    target_extraction.create_extraction_parameter(source_ex_para)                                                                # create the target transformation parameter\n",
    "    print(\"Parameter '\" + source_ex_para['name'] + \"' created.\")"
   ]
  },
  {
   "cell_type": "markdown",
   "metadata": {},
   "source": [
    "**Add tables in target extraction and overwrite parameter connections for time filters.**"
   ]
  },
  {
   "cell_type": "code",
   "execution_count": null,
   "metadata": {},
   "outputs": [],
   "source": [
    "for table in source_extraction.tables.data:\n",
    "    \n",
    "    if table.data['creationDateParameterStart'] is not None or table.data['creationDateParameterEnd'] is not None:\n",
    "        #None or table.data['changeDateOffsetParameter'] is not None:\n",
    "        \n",
    "        temp = table.data.copy()\n",
    "        \n",
    "        for para in source_extraction.variables:\n",
    "            if para['id'] == table.data['creationDateParameterStart']:\n",
    "                placeholder_start = para['placeholder']\n",
    "#            if para['id'] == table.data['creationDateParameterEnd']:\n",
    "#                placeholder_end = para['placeholder']\n",
    "#            if para['id'] == table.data['changeDateOffsetParameter']:\n",
    "#                placeholder_change = para['placeholder']\n",
    "                \n",
    "        for para in target_extraction.variables:\n",
    "            if para['placeholder'] == placeholder_start:\n",
    "                temp['creationDateParameterStart'] = para['id']\n",
    " #           if para['placeholder'] == placeholder_end:\n",
    " #               temp['creationDateParameterEnd'] = para['id']\n",
    " #           if para['placeholder'] == placeholder_change:\n",
    " #               temp['changeDateOffsetParameter'] = para['id']\n",
    "        \n",
    "        table=temp          \n",
    "              \n",
    "    try:\n",
    "        target_extraction.add_table(table=table)\n",
    "    except:\n",
    "        print(\"Filters for table: '\" + table.name + \"' are neglected as the table is not found in the indicated source connection.\")\n",
    "\n",
    "print(\"Congrats you copied the extraction \"+ target_extraction.name + \"!\")"
   ]
  }
 ],
 "metadata": {
  "jupytext": {
   "formats": "ipynb,py:percent"
  },
  "kernelspec": {
   "display_name": "Python 3",
   "language": "python",
   "name": "python3"
  },
  "language_info": {
   "codemirror_mode": {
    "name": "ipython",
    "version": 3
   },
   "file_extension": ".py",
   "mimetype": "text/x-python",
   "name": "python",
   "nbconvert_exporter": "python",
   "pygments_lexer": "ipython3",
   "version": "3.8.8"
  }
 },
 "nbformat": 4,
 "nbformat_minor": 4
}
