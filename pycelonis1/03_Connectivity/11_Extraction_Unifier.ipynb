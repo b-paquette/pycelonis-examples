{
 "cells": [
  {
   "cell_type": "markdown",
   "metadata": {},
   "source": [
    "# Extraction Unifier"
   ]
  },
  {
   "cell_type": "raw",
   "metadata": {},
   "source": [
    "Created by: e.vogt@celonis.com\n",
    "Uploaded on: 08.07.2020"
   ]
  },
  {
   "cell_type": "markdown",
   "metadata": {},
   "source": [
    "**This tutorial shows how to copy multiple separate extraction jobs into one extraction.**"
   ]
  },
  {
   "cell_type": "markdown",
   "metadata": {},
   "source": [
    "**To do so we first need to connect to the source data model.**"
   ]
  },
  {
   "cell_type": "code",
   "execution_count": 1,
   "metadata": {},
   "outputs": [
    {
     "name": "stdout",
     "output_type": "stream",
     "text": [
      "2020-04-02 08:25:56 - pycelonis: Login successful! Hello Application Key, this key currently has access to 0 analyses.\n"
     ]
    }
   ],
   "source": [
    "from pycelonis import get_celonis\n",
    "\n",
    "c_source = get_celonis(\"URL to the team from which you want to copy.\", \"Specify a valid API key for your source cloud team.\")\n",
    "source_data_pool = c_source.pools.find(\"Name or ID of the source data pool.\")\n",
    "source_data_job = source_data_pool.data_jobs.find(\"Name or ID of the source data job.\")"
   ]
  },
  {
   "cell_type": "code",
   "execution_count": null,
   "metadata": {},
   "outputs": [],
   "source": [
    "for source_extraction in source_data_job.extractions.data: \n",
    "    print(source_extraction.name)"
   ]
  },
  {
   "cell_type": "markdown",
   "metadata": {},
   "source": [
    "**In the next step we connect to the target data pool.**"
   ]
  },
  {
   "cell_type": "code",
   "execution_count": 4,
   "metadata": {},
   "outputs": [
    {
     "name": "stdout",
     "output_type": "stream",
     "text": [
      "2020-04-02 08:29:22 - pycelonis: Login successful! Hello Application Key, this key currently has access to 0 analyses.\n"
     ]
    }
   ],
   "source": [
    "c_target = get_celonis(\"URL to cloud team where you want to copy to.\", \"Specify a valid API key for your target cloud team.\")\n",
    "target_data_pool = c_target.pools.find(\"Name or ID of the target data pool.\")\n",
    "target_data_job = target_data_pool.data_jobs.find(\"Name or ID of the target data job.\")\n",
    "target_extraction = target_data_job.extractions.ids[\"Name or ID of the target data extraction.\"]"
   ]
  },
  {
   "cell_type": "markdown",
   "metadata": {},
   "source": [
    "**Create target extraction.**"
   ]
  },
  {
   "cell_type": "code",
   "execution_count": 6,
   "metadata": {},
   "outputs": [
    {
     "name": "stdout",
     "output_type": "stream",
     "text": [
      "Congrats you copied the extraction test_unified!\n",
      "Congrats you copied the extraction test_unified!\n",
      "Congrats you copied the extraction test_unified!\n",
      "Congrats you copied the extraction test_unified!\n",
      "Parameter 'Maximal Activity End Date' created.\n",
      "Parameter 'Maximal Activity Start Date' created.\n",
      "Congrats you copied the extraction test_unified!\n",
      "Congrats you copied the extraction test_unified!\n",
      "Congrats you copied the extraction test_unified!\n",
      "Congrats you copied the extraction test_unified!\n",
      "Congrats you copied the extraction test_unified!\n"
     ]
    }
   ],
   "source": [
    "for source_extraction in source_data_job.extractions.data:   # loop through source extractions\n",
    "\n",
    "    for source_ex_para in source_extraction.variables:                                                                              # loop through the source extraction parameters\n",
    "        if source_ex_para['defaultSettings'] is not None:                                                                           # create the connection for the default value to the target global parameters\n",
    "            if source_ex_para['defaultSettings']['poolVariableId'] is not None:\n",
    "                target_id = global_vars.get(source_ex_para['defaultSettings']['poolVariableId'])              \n",
    "                if target_id is None:\n",
    "                    para = target_data_pool.create_pool_parameter(source_data_pool.variables.find(source_ex_para['defaultSettings']['poolVariableId'])) # create the target global parameter if it does not exist yet\n",
    "                    print(\"Pool Parameter '\" + para.name + \"' created.\")\n",
    "                    target_id = para.id\n",
    "                    global_vars[source_ex_para['defaultSettings']['poolVariableId']] = target_id\n",
    "                source_ex_para['defaultSettings']['poolVariableId'] = target_id\n",
    "        if source_ex_para['settings'] is not None:                                                                                   # create the connection for the value to the target global parameters\n",
    "            if source_ex_para['settings']['poolVariableId'] is not None:\n",
    "                target_id = global_vars.get(source_ex_para['settings']['poolVariableId'])\n",
    "                if target_id is None:\n",
    "                    para = target_data_pool.create_pool_parameter(source_data_pool.variables.find(source_ex_para['settings']['poolVariableId']))        # create the target global parameter if it does not exist yet\n",
    "                    print(\"Pool Parameter '\" + para.name + \"' created.\")\n",
    "                    target_id = para.id\n",
    "                    global_vars[source_ex_para['settings']['poolVariableId']] = target_id\n",
    "                source_ex_para['settings']['poolVariableId'] = target_id\n",
    "\n",
    "        target_extraction.create_extraction_parameter(source_ex_para)                                                                # create the target transformation parameter\n",
    "        print(\"Parameter '\" + source_ex_para['name'] + \"' created.\")\n",
    "    \n",
    "    for table in source_extraction.tables.data:\n",
    "\n",
    "        if table.data['creationDateParameterStart'] is not None or table.data['creationDateParameterEnd'] is not None or table.data['changeDateOffsetParameter'] is not None:\n",
    "\n",
    "            temp = table.data.copy()\n",
    "\n",
    "            for para in source_extraction.variables:\n",
    "                if para['id'] == table.data['creationDateParameterStart']:\n",
    "                    placeholder_start = para['placeholder']\n",
    "                if para['id'] == table.data['creationDateParameterEnd']:\n",
    "                    placeholder_end = para['placeholder']\n",
    "                if para['id'] == table.data['changeDateOffsetParameter']:\n",
    "                    placeholder_change = para['placeholder']\n",
    "\n",
    "            for para in target_extraction.variables:\n",
    "                if para['placeholder'] == placeholder_start:\n",
    "                    temp['creationDateParameterStart'] = para['id']\n",
    "                if para['placeholder'] == placeholder_end:\n",
    "                    temp['creationDateParameterEnd'] = para['id']\n",
    "                if para['placeholder'] == placeholder_change:\n",
    "                    temp['changeDateOffsetParameter'] = para['id']\n",
    "\n",
    "            table=temp          \n",
    "\n",
    "        try:\n",
    "            target_extraction.add_table(table=table)\n",
    "        except:\n",
    "            print(\"Filters for table: '\" + table.name + \"' are neglected as the table is not found in the indicated source connection.\")\n",
    "\n",
    "    print(\"Congrats you copied the extraction \"+ target_extraction.name + \"!\")   "
   ]
  },
  {
   "cell_type": "code",
   "execution_count": null,
   "metadata": {},
   "outputs": [],
   "source": []
  }
 ],
 "metadata": {
  "kernelspec": {
   "display_name": "Python 3",
   "language": "python",
   "name": "python3"
  },
  "language_info": {
   "codemirror_mode": {
    "name": "ipython",
    "version": 3
   },
   "file_extension": ".py",
   "mimetype": "text/x-python",
   "name": "python",
   "nbconvert_exporter": "python",
   "pygments_lexer": "ipython3",
   "version": "3.7.6"
  }
 },
 "nbformat": 4,
 "nbformat_minor": 4
}
