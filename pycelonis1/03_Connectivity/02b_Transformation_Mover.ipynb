{
 "cells": [
  {
   "cell_type": "markdown",
   "metadata": {},
   "source": [
    "## Transformation (DataJob) Mover"
   ]
  },
  {
   "cell_type": "markdown",
   "metadata": {},
   "source": [
    "**This tutorial shows how to copy transformations from one team/ data pool to another one, independent of the cluster.**\n",
    "\n"
   ]
  },
  {
   "cell_type": "markdown",
   "metadata": {},
   "source": [
    "**To do so we first need to connect to the source data job.**"
   ]
  },
  {
   "cell_type": "code",
   "execution_count": null,
   "metadata": {},
   "outputs": [],
   "source": [
    "from pycelonis import get_celonis\n",
    "\n",
    "c_source = get_celonis(\"URL to the team from which you want to copy.\", \"Specify a valid API key for your source cloud team.\")\n",
    "source_data_pool = c_source.pools.find(\"Name or ID of the source data pool.\")\n",
    "source_data_job = source_data_pool.data_jobs.find(\"Name or ID of the source data job.\")"
   ]
  },
  {
   "cell_type": "markdown",
   "metadata": {},
   "source": [
    "**In the next step we connect to the target data job.**"
   ]
  },
  {
   "cell_type": "code",
   "execution_count": null,
   "metadata": {},
   "outputs": [],
   "source": [
    "c_target = get_celonis(\"URL to cloud team where you want to copy to.\", \"Specify a valid API key for your target cloud team.\")\n",
    "target_data_pool = c_target.pools.find(\"Name or ID of the target data pool.\")\n",
    "target_data_job = target_data_pool.data_jobs.find(\"Name or ID of the target data job.\")"
   ]
  },
  {
   "cell_type": "markdown",
   "metadata": {},
   "source": [
    "**In this step we save all source global parameter IDs in a dictionary and overwrite them with the target global parameter ID if the parameter exists already in the target data pool.**"
   ]
  },
  {
   "cell_type": "code",
   "execution_count": null,
   "metadata": {},
   "outputs": [],
   "source": [
    "global_vars = {}\n",
    "for source_var in source_data_pool.variables:                                                          # loop through global parameters of source data pool\n",
    "    global_vars.update({source_var.id: None})                                                          # save ID of source global parameter\n",
    "    for target_var in target_data_pool.variables:                                                      # loop through the global parameters of target data pool\n",
    "        if source_var.data['placeholder'].upper() == target_var.data['placeholder'].upper():           # if the placeholder of a source global parameter and a target global parameter match\n",
    "            global_vars.update({source_var.id: target_var.id})                                         # match the saved ID of source global parameter wih the target global parameter ID\n",
    "print(\"Global parameter configurations saved.\")"
   ]
  },
  {
   "cell_type": "markdown",
   "metadata": {},
   "source": [
    "**This section serves to create the target transformation, the related transformation parameters and to copy over the template settings.**"
   ]
  },
  {
   "cell_type": "code",
   "execution_count": null,
   "metadata": {},
   "outputs": [],
   "source": [
    "for source_transformation in source_data_job.transformations.data:   # loop through source transformations\n",
    "    \n",
    "    if source_transformation.statement is None:                      # if the source transformation is empty, it will not be created\n",
    "        continue\n",
    "    \n",
    "    # copy transformation from source to target data job:\n",
    "    target_transformation = target_data_job.create_transformation(name=source_transformation.name, description=source_transformation.data['description'], statement=source_transformation.statement)\n",
    "    print(\"Transformation: '\" + target_transformation.name + \"' created.\")\n",
    "    \n",
    "    for source_local_var in source_transformation.variables:                                                                              # loop through the source transformation parameters\n",
    "        if source_local_var['defaultSettings'] is not None:                                                                               # create the connection for the default value to the target global parameters\n",
    "            if source_local_var['defaultSettings']['poolVariableId'] is not None:                                                                             \n",
    "                target_id = global_vars.get(source_local_var['defaultSettings']['poolVariableId'])\n",
    "                if target_id is None:\n",
    "                    para = target_data_pool.create_pool_parameter(source_data_pool.variables.find(source_local_var['defaultSettings']['poolVariableId']))  # create the target global parameter if it does not exist yet\n",
    "                    print(\"Pool Parameter '\" + para.name + \"' created.\")\n",
    "                    target_id = para.id\n",
    "                    global_vars[source_local_var['defaultSettings']['poolVariableId']] = target_id\n",
    "                source_local_var['defaultSettings']['poolVariableId'] = target_id\n",
    "        if source_local_var['settings'] is not None:                                                                                      # create the connection for the value to the target global parameters \n",
    "            if source_local_var['settings']['poolVariableId'] is not None:\n",
    "                target_id = global_vars.get(source_local_var['settings']['poolVariableId'])\n",
    "                if target_id is None:\n",
    "                    para = target_data_pool.create_pool_parameter(source_data_pool.variables.find(source_local_var['settings']['poolVariableId']))         # create the target global parameter if it does not exist yet\n",
    "                    print(\"Pool Parameter '\" + para.name + \"' created.\")\n",
    "                    target_id = para.id\n",
    "                    global_vars[source_local_var['defaultSettings']['poolVariableId']] = target_id\n",
    "                source_local_var['settings']['poolVariableId'] = target_id\n",
    "\n",
    "        target_transformation.create_transformation_parameter(source_local_var)                                                            # create the target transformation parameter\n",
    "        print(\"Parameter '\" + source_local_var['name'] + \"' created.\")\n",
    "        \n",
    "    if(source_transformation.data['template']):                                                                                            # copy template settings to target transformation\n",
    "        target_transformation.to_template(source_transformation.data['protectionStatus'])\n",
    "\n",
    "print(\"Congrats you copied the data job \"+ source_data_job.name + \"!\")"
   ]
  }
 ],
 "metadata": {
  "jupytext": {
   "formats": "ipynb,py:percent"
  },
  "kernelspec": {
   "display_name": "Python 3",
   "language": "python",
   "name": "python3"
  },
  "language_info": {
   "codemirror_mode": {
    "name": "ipython",
    "version": 3
   },
   "file_extension": ".py",
   "mimetype": "text/x-python",
   "name": "python",
   "nbconvert_exporter": "python",
   "pygments_lexer": "ipython3",
   "version": "3.8.8"
  }
 },
 "nbformat": 4,
 "nbformat_minor": 4
}
