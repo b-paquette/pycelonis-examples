{
 "cells": [
  {
   "cell_type": "markdown",
   "metadata": {},
   "source": [
    "## Analysis Mover using Content CLI\n",
    "\n",
    "\n",
    "### This tutorial shows how to copy an analysis from one team/workspace to another one"
   ]
  },
  {
   "cell_type": "code",
   "execution_count": 1,
   "metadata": {},
   "outputs": [],
   "source": [
    "source_team_url = 'https://your_team.celonis.cloud/'\n",
    "source_api_key = 'your_api_token'\n",
    "destination_team_url = 'https://your_team.celonis.cloud/'\n",
    "destination_api_key = 'your_api_token'"
   ]
  },
  {
   "cell_type": "markdown",
   "metadata": {},
   "source": [
    "### Set environment variables for the source team setup"
   ]
  },
  {
   "cell_type": "code",
   "execution_count": 2,
   "metadata": {},
   "outputs": [],
   "source": [
    "import os\n",
    "os.environ['TEAM_URL'] = source_team_url\n",
    "os.environ['API_TOKEN'] = source_api_key\n"
   ]
  },
  {
   "cell_type": "markdown",
   "metadata": {},
   "source": [
    "### Pull analysis from the source team"
   ]
  },
  {
   "cell_type": "code",
   "execution_count": 3,
   "metadata": {},
   "outputs": [
    {
     "name": "stdout",
     "output_type": "stream",
     "text": [
      "\u001b[32minfo\u001b[39m:    File downloaded successfully. New filename: analysis_6b2166e2-0c40-43e2-b3e6-62996c7dae11.json\n"
     ]
    }
   ],
   "source": [
    "!content-cli pull analysis --id 'insert analysis id here'"
   ]
  },
  {
   "cell_type": "markdown",
   "metadata": {},
   "source": [
    "### Set environment variables again for the destination team setup\n",
    "(No need to do this step (re-define environment variables) if source and destination teams are the same)"
   ]
  },
  {
   "cell_type": "code",
   "execution_count": 4,
   "metadata": {},
   "outputs": [],
   "source": [
    "os.environ['TEAM_URL'] = destination_team_url\n",
    "os.environ['API_TOKEN'] = destination_api_key"
   ]
  },
  {
   "cell_type": "markdown",
   "metadata": {},
   "source": [
    "### Push analysis to the destination team\n",
    "\n",
    "Hint: Press tab while writing the file name to auto complete"
   ]
  },
  {
   "cell_type": "code",
   "execution_count": 5,
   "metadata": {},
   "outputs": [
    {
     "name": "stdout",
     "output_type": "stream",
     "text": [
      "\u001b[32minfo\u001b[39m:    Analysis was pushed successfully. New ID: 07f700ff-20e3-4dd8-878b-c7fb6319b3b2\n"
     ]
    }
   ],
   "source": [
    "!content-cli push analysis --workspaceId 'insert workspace id here' --file 'insert_downloaded_file_in_the_previous_step_here'"
   ]
  }
 ],
 "metadata": {
  "kernelspec": {
   "display_name": "Python 3",
   "language": "python",
   "name": "python3"
  },
  "language_info": {
   "codemirror_mode": {
    "name": "ipython",
    "version": 3
   },
   "file_extension": ".py",
   "mimetype": "text/x-python",
   "name": "python",
   "nbconvert_exporter": "python",
   "pygments_lexer": "ipython3",
   "version": "3.8.3-final"
  }
 },
 "nbformat": 4,
 "nbformat_minor": 4
}