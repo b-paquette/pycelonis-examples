{
 "cells": [
  {
   "cell_type": "markdown",
   "metadata": {},
   "source": [
    "## Replacer\n",
    "\n",
    "### This tutorial shows how to replace any text in a whole analysis. \n",
    "Be careful, only use real key words to replace, otherwise you might replace also words or word parts you did not mean to.\n",
    "\n"
   ]
  },
  {
   "cell_type": "markdown",
   "metadata": {},
   "source": [
    "### First connect to the analysis and indicate what should be replaced\n",
    "It is recommended to use the ID of the respective analysis."
   ]
  },
  {
   "cell_type": "code",
   "execution_count": 36,
   "metadata": {},
   "outputs": [
    {
     "name": "stdout",
     "output_type": "stream",
     "text": [
      "2020-02-17 08:20:12 - pycelonis: Login successful! Hello s.matthaei@celonis.com\n"
     ]
    }
   ],
   "source": [
    "import json\n",
    "from pycelonis import get_celonis\n",
    "\n",
    "celonis = get_celonis(\"URL to the team in which you are working.\", \"Specify a valid API key for the cloud team.\")\n",
    "analysis = celonis.analyses.find(\"Name or ID of the analysis.\")\n",
    "\n",
    "# enter as many replacements as you want and separate them with a comma\n",
    "replacements ={\n",
    "    'old_word_1' : 'new_word_1',\n",
    "    'old_word_2' : 'new_word_2'\n",
    "}"
   ]
  },
  {
   "cell_type": "markdown",
   "metadata": {},
   "source": [
    "### Get the current version of the published analysis, the drafted one from the edit mode and the saved formulas"
   ]
  },
  {
   "cell_type": "code",
   "execution_count": 40,
   "metadata": {},
   "outputs": [],
   "source": [
    "num_replacements = 0\n",
    "doc_p = analysis.published.data\n",
    "doc_d = analysis.draft.data\n",
    "kpis = analysis.saved_formulas"
   ]
  },
  {
   "cell_type": "markdown",
   "metadata": {},
   "source": [
    "### Replace in the formulas"
   ]
  },
  {
   "cell_type": "code",
   "execution_count": 38,
   "metadata": {},
   "outputs": [
    {
     "name": "stdout",
     "output_type": "stream",
     "text": [
      "Replacements in the formulas: 78\n"
     ]
    }
   ],
   "source": [
    "for kpi in kpis:\n",
    "    for key, val in replacements.items():\n",
    "        num_replacements = num_replacements + kpi.data[\"name\"].count(key)\n",
    "        num_replacements = num_replacements + kpi.data[\"template\"].count(key)\n",
    "        num_replacements = num_replacements + kpi.data[\"description\"].count(key)\n",
    "        \n",
    "        name = kpi.data[\"name\"].replace(key, val)\n",
    "        template = kpi.data[\"template\"].replace(key, val)\n",
    "        description = kpi.data[\"description\"].replace(key, val)\n",
    "        parameters = kpi.data[\"parameters\"]\n",
    "        \n",
    "        kpi.delete()\n",
    "        analysis.create_saved_formula(name=name, description=description, template=template, parameters=parameters)       \n",
    "        \n",
    "print('Replacements in the formulas: ' + str(num_replacements))"
   ]
  },
  {
   "cell_type": "markdown",
   "metadata": {},
   "source": [
    "### Replace in the published and drafted analysis"
   ]
  },
  {
   "cell_type": "code",
   "execution_count": 39,
   "metadata": {},
   "outputs": [
    {
     "name": "stdout",
     "output_type": "stream",
     "text": [
      "Overall replacements: 143\n"
     ]
    }
   ],
   "source": [
    "json_doc_dump_p = json.dumps(doc_p, ensure_ascii=False)\n",
    "json_doc_dump_p = json_doc_dump_p.replace(\"â¬\", \"€\")\n",
    "\n",
    "json_doc_dump_d = json.dumps(doc_d, ensure_ascii=False)\n",
    "json_doc_dump_d = json_doc_dump_d.replace(\"â¬\", \"€\")\n",
    "\n",
    "for key, val in replacements.items():\n",
    "    num_replacements += json_doc_dump_p.count(key)\n",
    "    json_doc_dump_p = json_doc_dump_p.replace(key, val)\n",
    "    json_doc_dump_d = json_doc_dump_d.replace(key, val)\n",
    "    \n",
    "json_doc_dump_p = json_doc_dump_p.replace(\"â¬\", \"€\")\n",
    "json_doc_dump_d = json_doc_dump_d.replace(\"â¬\", \"€\")\n",
    "\n",
    "doc_p = json.loads(json_doc_dump_p)\n",
    "doc_d = json.loads(json_doc_dump_d)\n",
    "\n",
    "analysis.draft.data = doc_d\n",
    "analysis.published.data = doc_p\n",
    "\n",
    "print('Overall replacements: ' + str(num_replacements))"
   ]
  }
 ],
 "metadata": {
  "jupytext": {
   "formats": "ipynb,py:percent"
  },
  "kernelspec": {
   "display_name": "Python 3",
   "language": "python",
   "name": "python3"
  },
  "language_info": {
   "codemirror_mode": {
    "name": "ipython",
    "version": 3
   },
   "file_extension": ".py",
   "mimetype": "text/x-python",
   "name": "python",
   "nbconvert_exporter": "python",
   "pygments_lexer": "ipython3",
   "version": "3.7.6"
  }
 },
 "nbformat": 4,
 "nbformat_minor": 4
}