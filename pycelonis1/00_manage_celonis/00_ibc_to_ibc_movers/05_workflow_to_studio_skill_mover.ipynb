{
 "cells": [
  {
   "cell_type": "markdown",
   "metadata": {},
   "source": [
    "## Move Workflows from Process Automation to Studio Skills"
   ]
  },
  {
   "cell_type": "code",
   "execution_count": 1,
   "metadata": {},
   "outputs": [],
   "source": [
    "source_team_url = 'https://your_team.celonis.cloud/'\n",
    "source_api_key = 'your_api_token'\n",
    "destination_team_url = 'https://your_team.celonis.cloud/'\n",
    "destination_api_key = 'your_api_token'"
   ]
  },
  {
   "cell_type": "markdown",
   "metadata": {},
   "source": [
    "### Set environment variables for the source team setup"
   ]
  },
  {
   "cell_type": "code",
   "execution_count": 2,
   "metadata": {},
   "outputs": [],
   "source": [
    "import os\n",
    "os.environ['TEAM_URL'] = source_team_url\n",
    "os.environ['API_TOKEN'] = source_api_key"
   ]
  },
  {
   "cell_type": "markdown",
   "metadata": {},
   "source": [
    "### Pull workflow from process automation in source team as an asset"
   ]
  },
  {
   "cell_type": "code",
   "execution_count": 3,
   "metadata": {},
   "outputs": [
    {
     "name": "stdout",
     "output_type": "stream",
     "text": [
      "\u001b[32minfo\u001b[39m:    File downloaded successfully. New filename: asset_2b3ef876-aa47-42b6-823f-5e1bb4680e9d.yaml\n"
     ]
    }
   ],
   "source": [
    "!content-cli pull workflow --id 'insert_workflow_id_here' --asset"
   ]
  },
  {
   "cell_type": "markdown",
   "metadata": {},
   "source": [
    "### Set environment variables again for the destination team setup\n",
    "No need to do this step (re-define environment variables) if source and destination teams are the same"
   ]
  },
  {
   "cell_type": "code",
   "execution_count": 4,
   "metadata": {},
   "outputs": [],
   "source": [
    "os.environ['TEAM_URL'] = destination_team_url\n",
    "os.environ['API_TOKEN'] = destination_api_key"
   ]
  },
  {
   "cell_type": "markdown",
   "metadata": {},
   "source": [
    "### Push downloaded workflow file to the studio as skill asset in the source team\n",
    "Hint: Press tab while writing the file name to auto complete"
   ]
  },
  {
   "cell_type": "code",
   "execution_count": 5,
   "metadata": {},
   "outputs": [
    {
     "name": "stdout",
     "output_type": "stream",
     "text": [
      "\u001b[32minfo\u001b[39m:    Asset was pushed successfully. New key: test.On-time-Delivery-Prediction\n"
     ]
    }
   ],
   "source": [
    "!content-cli push asset --file 'insert_downloaded_asset_file_name' --package 'package_key_to_push_the_asset_to'"
   ]
  }
 ],
 "metadata": {
  "kernelspec": {
   "display_name": "Python 3",
   "language": "python",
   "name": "python3"
  },
  "language_info": {
   "codemirror_mode": {
    "name": "ipython",
    "version": 3
   },
   "file_extension": ".py",
   "mimetype": "text/x-python",
   "name": "python",
   "nbconvert_exporter": "python",
   "pygments_lexer": "ipython3",
   "version": "3.7.6"
  }
 },
 "nbformat": 4,
 "nbformat_minor": 4
}