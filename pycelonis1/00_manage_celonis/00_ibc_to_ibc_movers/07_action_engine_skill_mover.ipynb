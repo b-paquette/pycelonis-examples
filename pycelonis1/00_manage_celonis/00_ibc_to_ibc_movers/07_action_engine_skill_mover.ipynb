{
 "cells": [
  {
   "cell_type": "markdown",
   "metadata": {},
   "source": [
    "## Action Engine Skill Mover using Content CLI\n",
    "\n",
    "### This tutorial shows how to copy an action engine skill from one team to another one"
   ]
  },
  {
   "cell_type": "code",
   "execution_count": 1,
   "metadata": {},
   "outputs": [],
   "source": [
    "source_team_url = 'https://your_team.celonis.cloud/'\n",
    "source_api_key = 'your_api_token'\n",
    "destination_team_url = 'https://your_team.celonis.cloud/'\n",
    "destination_api_key = 'your_api_token'"
   ]
  },
  {
   "cell_type": "markdown",
   "metadata": {},
   "source": [
    "### Set environment variable for the source team"
   ]
  },
  {
   "cell_type": "code",
   "execution_count": 2,
   "metadata": {},
   "outputs": [],
   "source": [
    "import os\n",
    "os.environ['TEAM_URL'] = source_team_url\n",
    "os.environ['API_TOKEN'] = source_api_key"
   ]
  },
  {
   "cell_type": "markdown",
   "metadata": {},
   "source": [
    "### Pull action engine skill from the source team"
   ]
  },
  {
   "cell_type": "code",
   "execution_count": 3,
   "metadata": {},
   "outputs": [
    {
     "name": "stdout",
     "output_type": "stream",
     "text": [
      "\u001b[32minfo\u001b[39m:    File downloaded successfully. New filename: skill_08594b68-2731-4ede-abaf-4fd7eb5720ca.json\n"
     ]
    }
   ],
   "source": [
    "!content-cli pull skill --skillId 'insert_skill_id_here'  --projectId 'insert_project_id_here'"
   ]
  },
  {
   "cell_type": "markdown",
   "metadata": {},
   "source": [
    "### Set environment variables again for the destination team setup\n",
    "No need to do this step (re-define environment variables) if source and destination teams are the same"
   ]
  },
  {
   "cell_type": "code",
   "execution_count": 4,
   "metadata": {},
   "outputs": [],
   "source": [
    "os.environ['TEAM_URL'] = destination_team_url\n",
    "os.environ['API_TOKEN'] = destination_api_key"
   ]
  },
  {
   "cell_type": "markdown",
   "metadata": {},
   "source": [
    "### Push action engine skill to the destination team\n",
    "\n",
    "Hint: Press tab while writing the file name to auto complete"
   ]
  },
  {
   "cell_type": "code",
   "execution_count": 5,
   "metadata": {},
   "outputs": [
    {
     "name": "stdout",
     "output_type": "stream",
     "text": [
      "\u001b[32minfo\u001b[39m:    Skill was pushed successfully. New ID: 4639e4dd-b0ea-484f-822b-5415f2244c5d\n"
     ]
    }
   ],
   "source": [
    "!content-cli push skill --projectId 'insert_new_project_id_here' --file 'insert_downloaded_file_name_here'"
   ]
  }
 ],
 "metadata": {
  "kernelspec": {
   "display_name": "Python 3",
   "language": "python",
   "name": "python3"
  },
  "language_info": {
   "codemirror_mode": {
    "name": "ipython",
    "version": 3
   },
   "file_extension": ".py",
   "mimetype": "text/x-python",
   "name": "python",
   "nbconvert_exporter": "python",
   "pygments_lexer": "ipython3",
   "version": "3.7.6"
  }
 },
 "nbformat": 4,
 "nbformat_minor": 4
}