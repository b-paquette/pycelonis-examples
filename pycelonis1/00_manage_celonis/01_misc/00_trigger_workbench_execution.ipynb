{
 "cells": [
  {
   "cell_type": "markdown",
   "metadata": {},
   "source": [
    "## Trigger a Notebook from outside the Workbench (e.g. from an external automation software)"
   ]
  },
  {
   "cell_type": "code",
   "execution_count": null,
   "metadata": {},
   "outputs": [],
   "source": [
    "import requests\n",
    "import json\n",
    "\n",
    "url = \"https://TEAMNAME_HERE.REALMHERE.celonis.cloud/machine-learning/api/executions\"\n",
    "\n",
    "\n",
    "# specify ID of Workbench (find this in the URL of a specific Workbench you want to trigger)\n",
    "# specify filename, if your file is not stored in the root you should include the foldername in the path, e.g. \"executionFileName\": \"Foldername/Run quickly.ipynb\"\n",
    "# specify any params you want to pass. To see how they are received in the notebook, check https://papermill.readthedocs.io/en/latest/\n",
    "payload = {\n",
    "    \"notebookId\": \"4417517d-55ae-482b-8f56-ac6d1d864e68\",\n",
    "    \"executionFileName\": \"Run quickly.ipynb\",\n",
    "    \"params\":{\n",
    "        \"param1\":\"value1\"\n",
    "    }\n",
    "}\n",
    "\n",
    "payload = json.dumps(payload)\n",
    "\n",
    "# specify API Key (Applicationkeys do not work as of June 2020)\n",
    "headers = {\n",
    "    'content-type': 'application/json;charset=UTF-8',\n",
    "    'authorization': 'Bearer API_KEY_HERE'\n",
    "}\n",
    "\n",
    "response = requests.request(\"POST\", url, headers=headers, data = payload)\n",
    "\n",
    "print(response.text.encode('utf8'))\n"
   ]
  },
  {
   "cell_type": "markdown",
   "metadata": {},
   "source": [
    "# Get status of execution"
   ]
  },
  {
   "cell_type": "code",
   "execution_count": null,
   "metadata": {},
   "outputs": [],
   "source": [
    "import json\n",
    "resp = json.loads(response.text)\n",
    "\n",
    "url = url + resp['id']\n",
    "response = requests.request(\"GET\", url, headers=headers)\n",
    "print(response.text.encode('utf8'))"
   ]
  }
 ],
 "metadata": {
  "kernelspec": {
   "display_name": "Python 3",
   "language": "python",
   "name": "python3"
  },
  "language_info": {
   "codemirror_mode": {
    "name": "ipython",
    "version": 3
   },
   "file_extension": ".py",
   "mimetype": "text/x-python",
   "name": "python",
   "nbconvert_exporter": "python",
   "pygments_lexer": "ipython3",
   "version": "3.7.3"
  }
 },
 "nbformat": 4,
 "nbformat_minor": 4
}