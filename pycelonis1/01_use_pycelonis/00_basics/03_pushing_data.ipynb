{
 "cells": [
  {
   "cell_type": "markdown",
   "metadata": {},
   "source": [
    "## Pushing Data\n",
    "\n",
    "### This tutorial shows how data can be pushed from Python to Celonis. The data is pushed to a Celonis Data Pool or Data Model and is ready to use within IBC.\n",
    "In this to Tutorial we will:\n",
    "1. Connect to Celonis\n",
    "2. Prepare the data that needs to be pushed into a dataframe.\n",
    "3. Push the data into Celonis\n",
    "    1. Push data to datapool\n",
    "    2. Push data directly to a specific datamodel in the datapool"
   ]
  },
  {
   "cell_type": "markdown",
   "metadata": {},
   "source": [
    "### Connect to Celonis"
   ]
  },
  {
   "cell_type": "code",
   "execution_count": 1,
   "metadata": {},
   "outputs": [
    {
     "name": "stdout",
     "output_type": "stream",
     "text": [
      "2020-10-23 11:50:39 - pycelonis: Login successful! Hello Noor\n"
     ]
    }
   ],
   "source": [
    "from pycelonis import get_celonis\n",
    "celonis = get_celonis()"
   ]
  },
  {
   "cell_type": "markdown",
   "metadata": {},
   "source": [
    "### Prepare the data that needs to be pushed to celonis into a dataframe\n",
    "\n",
    "For the sake of this demo, we will create a dummy dataframe, but you can put any data in the dataframe as you like"
   ]
  },
  {
   "cell_type": "code",
   "execution_count": 2,
   "metadata": {},
   "outputs": [
    {
     "data": {
      "text/html": [
       "<div>\n",
       "<style scoped>\n",
       "    .dataframe tbody tr th:only-of-type {\n",
       "        vertical-align: middle;\n",
       "    }\n",
       "\n",
       "    .dataframe tbody tr th {\n",
       "        vertical-align: top;\n",
       "    }\n",
       "\n",
       "    .dataframe thead th {\n",
       "        text-align: right;\n",
       "    }\n",
       "</style>\n",
       "<table border=\"1\" class=\"dataframe\">\n",
       "  <thead>\n",
       "    <tr style=\"text-align: right;\">\n",
       "      <th></th>\n",
       "      <th>A</th>\n",
       "      <th>B</th>\n",
       "      <th>C</th>\n",
       "    </tr>\n",
       "  </thead>\n",
       "  <tbody>\n",
       "    <tr>\n",
       "      <th>0</th>\n",
       "      <td>2</td>\n",
       "      <td>2</td>\n",
       "      <td>10</td>\n",
       "    </tr>\n",
       "    <tr>\n",
       "      <th>1</th>\n",
       "      <td>4</td>\n",
       "      <td>0</td>\n",
       "      <td>2</td>\n",
       "    </tr>\n",
       "    <tr>\n",
       "      <th>2</th>\n",
       "      <td>8</td>\n",
       "      <td>0</td>\n",
       "      <td>1</td>\n",
       "    </tr>\n",
       "    <tr>\n",
       "      <th>3</th>\n",
       "      <td>0</td>\n",
       "      <td>0</td>\n",
       "      <td>8</td>\n",
       "    </tr>\n",
       "  </tbody>\n",
       "</table>\n",
       "</div>"
      ],
      "text/plain": [
       "   A  B   C\n",
       "0  2  2  10\n",
       "1  4  0   2\n",
       "2  8  0   1\n",
       "3  0  0   8"
      ]
     },
     "execution_count": 2,
     "metadata": {},
     "output_type": "execute_result"
    }
   ],
   "source": [
    "import pandas as pd\n",
    "\n",
    "df = pd.DataFrame({'A': [2, 4, 8, 0], 'B': [2, 0, 0, 0], 'C': [10, 2, 1, 8]})\n",
    "df.head()"
   ]
  },
  {
   "cell_type": "markdown",
   "metadata": {},
   "source": [
    "### Push the data from the dataframe into a table in Celonis\n"
   ]
  },
  {
   "cell_type": "markdown",
   "metadata": {},
   "source": [
    "#### A. Push data to the datapool\n",
    "\n",
    "##### Find the datapool\n"
   ]
  },
  {
   "cell_type": "code",
   "execution_count": 3,
   "metadata": {},
   "outputs": [],
   "source": [
    "data_pool = celonis.pools.find(\"id_or_name_of_data_pool\")"
   ]
  },
  {
   "cell_type": "markdown",
   "metadata": {},
   "source": [
    "##### If you are unsure about the name/id of your data pool you can list all the datapools available to you"
   ]
  },
  {
   "cell_type": "code",
   "execution_count": null,
   "metadata": {},
   "outputs": [],
   "source": [
    "celonis.pools"
   ]
  },
  {
   "cell_type": "markdown",
   "metadata": {},
   "source": [
    "Now we push the data frame to the data pool. For this, we use the push_table() function, which has the following properties:\n",
    "* df_or_path: Either the pandas data frame or the path to a data frame that should be pushed to Celonis\n",
    "* table_name: The name that this data frame should have in the data pool\n",
    "* if_exists: Specifies what happens when the table already exists in the data pool. The options are 'replace', 'append', 'upsert', 'error'\n",
    "\n",
    "The additional parameters (like the setting of primary keys and column types) can be checked by pressing SHIFT + TAB, while the curser is in the function push_table()"
   ]
  },
  {
   "cell_type": "code",
   "execution_count": null,
   "metadata": {},
   "outputs": [],
   "source": [
    "data_pool.push_table(df,\"table_name\", if_exists = 'replace')"
   ]
  },
  {
   "cell_type": "markdown",
   "metadata": {},
   "source": [
    "The table is now in the data pool and can be added to any data model in that pool."
   ]
  },
  {
   "cell_type": "markdown",
   "metadata": {},
   "source": [
    "### B. Push data directly to the datamodel\n",
    "We could also directly push the table to the data model. We would first need to find the data model.\n",
    "##### Find the datamodel"
   ]
  },
  {
   "cell_type": "code",
   "execution_count": 5,
   "metadata": {},
   "outputs": [],
   "source": [
    "data_model = celonis.datamodels.find(\"datamodel id/name\")"
   ]
  },
  {
   "cell_type": "markdown",
   "metadata": {},
   "source": [
    "##### If you are unsure about the name/id of your data pool you can list all the datamodels available to you"
   ]
  },
  {
   "cell_type": "code",
   "execution_count": 5,
   "metadata": {},
   "outputs": [],
   "source": [
    "celonis.datamodels"
   ]
  },
  {
   "cell_type": "markdown",
   "metadata": {},
   "source": [
    "##### Push the dataframe as table in the datamodel\n",
    "\n",
    "Use the push_table() function again. In this example we will replace the table if it already exist, however we can also use the options: append and upsert as stated earlier.\n",
    "\n",
    "Here we have additionally the option to reload the datamodel. In this example we choose to set reload_datamodel as False. In this case, the changes will be effective with the next scheduled or manual datamodel reload."
   ]
  },
  {
   "cell_type": "code",
   "execution_count": 6,
   "metadata": {},
   "outputs": [
    {
     "data": {
      "text/plain": [
       "<DatamodelTable, id 128a0234-c1ba-4037-b260-4765ae0b7141, name table_name>"
      ]
     },
     "execution_count": 6,
     "metadata": {},
     "output_type": "execute_result"
    }
   ],
   "source": [
    "data_model.push_table(df,\"table_name\",reload_datamodel=False, if_exists = 'replace')"
   ]
  }
 ],
 "metadata": {
  "jupytext": {
   "formats": "ipynb,py:percent"
  },
  "kernelspec": {
   "display_name": "Python 3",
   "language": "python",
   "name": "python3"
  },
  "language_info": {
   "codemirror_mode": {
    "name": "ipython",
    "version": 3
   },
   "file_extension": ".py",
   "mimetype": "text/x-python",
   "name": "python",
   "nbconvert_exporter": "python",
   "pygments_lexer": "ipython3",
   "version": "3.7.4"
  }
 },
 "nbformat": 4,
 "nbformat_minor": 4
}
