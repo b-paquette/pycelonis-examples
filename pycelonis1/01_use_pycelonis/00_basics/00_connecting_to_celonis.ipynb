{
 "cells": [
  {
   "cell_type": "markdown",
   "metadata": {},
   "source": [
    "## Connecting to Celonis"
   ]
  },
  {
   "cell_type": "markdown",
   "metadata": {},
   "source": [
    "### The Celonis object\n",
    "\n",
    "Import the get_celonis function and call it. This will return either an IBC object or a CPM4 object. **Permissions are determined by the App/API key you use to log in!** Set `read_only` to `True` if you want to make sure you can't break anything."
   ]
  },
  {
   "cell_type": "code",
   "execution_count": 1,
   "metadata": {
    "scrolled": true
   },
   "outputs": [
    {
     "name": "stdout",
     "output_type": "stream",
     "text": [
      "2019-10-08 12:01:08 - Login successful! Hello Simon Riezebos\n"
     ]
    }
   ],
   "source": [
    "from pycelonis import get_celonis\n",
    "\n",
    "celonis = get_celonis()"
   ]
  },
  {
   "cell_type": "markdown",
   "metadata": {},
   "source": [
    "### (Optional) specify login details manually\n",
    "By default `pycelonis` will get the login information from environment variables. See :meth:`get_celonis` for more details. You can also specify them manually."
   ]
  },
  {
   "cell_type": "code",
   "execution_count": null,
   "metadata": {},
   "outputs": [],
   "source": [
    "login = {\n",
    "    \"celonis_url\": \"demo.eu-1.celonis.cloud\",\n",
    "    \"api_token\": \"paste_here_your_api_token\",\n",
    "    #The following 2 lines are only necessary when connecting to CPM4.5, not for IBC:\n",
    "    #\"api_id\": \"paste_here_your_api_id\", \n",
    "    #\"username\": \"paste_here_your_username\",\n",
    "}\n",
    "celonis_manual = get_celonis(**login)"
   ]
  },
  {
   "cell_type": "markdown",
   "metadata": {},
   "source": [
    "### Working with (Celonis) objects in Jupyter Notebook"
   ]
  },
  {
   "cell_type": "markdown",
   "metadata": {},
   "source": [
    "The object returned by `get_celonis` is your portal into celonis, **press tab after `c.`** to see the available methods and attributes."
   ]
  },
  {
   "cell_type": "code",
   "execution_count": null,
   "metadata": {},
   "outputs": [],
   "source": [
    "celonis."
   ]
  },
  {
   "cell_type": "markdown",
   "metadata": {},
   "source": [
    "Objects in celonis can be found using their ID or (substring of) name. **Press shift-tab inside the parentheses** to see the signature and documentation of each function."
   ]
  },
  {
   "cell_type": "code",
   "execution_count": 3,
   "metadata": {},
   "outputs": [
    {
     "data": {
      "text/plain": [
       "<Analysis, id 117f7528-8504-4450-9fd6-8ebcf1749d18, name OTD Prediction Binary - Technical App (OAF) - Copy>"
      ]
     },
     "execution_count": 3,
     "metadata": {},
     "output_type": "execute_result"
    }
   ],
   "source": [
    "analysis = celonis.analyses.find('117f7528-8504-4450-9fd6-8ebcf1749d18')\n",
    "analysis"
   ]
  },
  {
   "cell_type": "markdown",
   "metadata": {},
   "source": [
    "Objects can also be accessed directly with auto-complete using the `.names[]` or `.ids[]` property of a collection."
   ]
  },
  {
   "cell_type": "code",
   "execution_count": null,
   "metadata": {},
   "outputs": [],
   "source": [
    "celonis.datamodels.names[<-PRESS TAB HERE]"
   ]
  },
  {
   "cell_type": "markdown",
   "metadata": {},
   "source": [
    "### Advanced: access the API data of a Celonis object\n",
    "Almost every object that represents an object in Celonis contains a `.data` property that shows the JSON data from the Celonis API. This data is **automatically refreshed** and if **changes are made to this data, `pycelonis` tries to make the same changes in the object in Celonis.**"
   ]
  },
  {
   "cell_type": "code",
   "execution_count": 5,
   "metadata": {},
   "outputs": [
    {
     "data": {
      "text/plain": [
       "{'permissions': ['MOVE_TO',\n",
       "  'DELETE_WORKSPACE',\n",
       "  'CREATE_WORKSPACE',\n",
       "  'DELETE_ALL_WORKSPACES',\n",
       "  'DELETE_ALL_ANALYSES',\n",
       "  'EDIT_ALL_ANALYSES',\n",
       "  'EDIT_ALL_WORKSPACES',\n",
       "  'USE_ALL_ANALYSES',\n",
       "  'CREATE_ANALYSES',\n",
       "  'DELETE_ANALYSIS',\n",
       "  'EDIT_WORKSPACE',\n",
       "  'MANAGE_PERMISSIONS',\n",
       "  'EXPORT_CONTENT',\n",
       "  'USE_ANALYSIS',\n",
       "  'EDIT_ANALYSIS'],\n",
       " 'id': '117f7528-8504-4450-9fd6-8ebcf1749d18',\n",
       " 'tenantId': None,\n",
       " 'name': 'OTD Prediction Binary - Technical App (OAF) - Copy',\n",
       " 'description': None,\n",
       " 'deleted': False,\n",
       " 'transportId': None,\n",
       " 'lastPublishedDraftId': '7f82df02-b728-4ca3-acdf-1940dd7de7b0',\n",
       " 'autoSaveId': '2e47dccc-8cbf-400d-8404-72e1f5298d0d',\n",
       " 'processId': 'acb6313c-bba8-46fd-9637-24c7d5463746',\n",
       " 'createDate': 1556264369787,\n",
       " 'favourite': False,\n",
       " 'contentId': None,\n",
       " 'contentVersion': 0,\n",
       " 'tags': [{'name': 'WillBeDeleted'}],\n",
       " 'applicationId': '',\n",
       " 'publicLink': False,\n",
       " 'lastPublishedDate': 1564498481791,\n",
       " 'lastPublishedUser': 'Simon',\n",
       " 'objectId': '117f7528-8504-4450-9fd6-8ebcf1749d18',\n",
       " 'publishedDraftId': '7f82df02-b728-4ca3-acdf-1940dd7de7b0',\n",
       " 'folderId': '117f7528-8504-4450-9fd6-8ebcf1749d18',\n",
       " 'parentObjectId': 'acb6313c-bba8-46fd-9637-24c7d5463746'}"
      ]
     },
     "execution_count": 5,
     "metadata": {},
     "output_type": "execute_result"
    }
   ],
   "source": [
    "analysis.data"
   ]
  }
 ],
 "metadata": {
  "jupytext": {
   "formats": "ipynb,py:percent"
  },
  "kernelspec": {
   "display_name": "Python 3",
   "language": "python",
   "name": "python3"
  },
  "language_info": {
   "codemirror_mode": {
    "name": "ipython",
    "version": 3
   },
   "file_extension": ".py",
   "mimetype": "text/x-python",
   "name": "python",
   "nbconvert_exporter": "python",
   "pygments_lexer": "ipython3",
   "version": "3.7.3"
  }
 },
 "nbformat": 4,
 "nbformat_minor": 4
}