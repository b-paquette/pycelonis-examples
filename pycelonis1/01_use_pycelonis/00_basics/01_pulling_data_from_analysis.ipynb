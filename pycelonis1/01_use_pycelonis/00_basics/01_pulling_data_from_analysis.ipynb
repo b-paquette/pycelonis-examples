{
 "cells": [
  {
   "cell_type": "markdown",
   "metadata": {},
   "source": [
    "## Pulling data from an Analysis"
   ]
  },
  {
   "cell_type": "markdown",
   "metadata": {},
   "source": [
    "### This tutorial shows how data from an OLAP table in Celonis can be extracted. The data can then be used in Python. \n",
    "\n",
    "To do this, only 4 steps are necessary: <br>\n",
    "1. Connect to Celonis <br>\n",
    "2. Connect to an analysis in Celonis that contains the OLAP table <br>\n",
    "3. Find the OLAP table <br>\n",
    "4. Extract the OLAP table <br>\n",
    "\n",
    "Note: You can also extract data from any component in the analysis in a similar way.\n"
   ]
  },
  {
   "cell_type": "markdown",
   "metadata": {},
   "source": [
    "### Connect to Celonis"
   ]
  },
  {
   "cell_type": "code",
   "execution_count": 1,
   "metadata": {},
   "outputs": [
    {
     "name": "stdout",
     "output_type": "stream",
     "text": [
      "2019-12-04 08:23:17 - pycelonis: Login successful! Hello Simon Riezebos\n"
     ]
    }
   ],
   "source": [
    "from pycelonis import get_celonis\n",
    "\n",
    "celonis = get_celonis()"
   ]
  },
  {
   "cell_type": "markdown",
   "metadata": {},
   "source": [
    "### Find the analysis by either searching for the analysis's name or ID"
   ]
  },
  {
   "cell_type": "code",
   "execution_count": 2,
   "metadata": {},
   "outputs": [
    {
     "data": {
      "text/plain": [
       "<Analysis, id 440cb0ba-7f00-4ec9-a50a-f9f8772e5893, name Test PyCelonis>"
      ]
     },
     "execution_count": 2,
     "metadata": {},
     "output_type": "execute_result"
    }
   ],
   "source": [
    "analysis = celonis.analyses.find('Analysis id/name')\n",
    "analysis"
   ]
  },
  {
   "cell_type": "markdown",
   "metadata": {},
   "source": [
    "### Find the table that you want to extract through the table's name."
   ]
  },
  {
   "cell_type": "code",
   "execution_count": 3,
   "metadata": {},
   "outputs": [
    {
     "name": "stdout",
     "output_type": "stream",
     "text": [
      "2019-12-04 08:23:24 - pycelonis: Best matches: [(0.9, '#{Vendors}'), (0.4, 'No. of vendors'), (0.0, '')]\n"
     ]
    },
    {
     "data": {
      "text/plain": [
       "<BaseAnalysisComponent, id 6bce2ff5-ee25-4d59-8387-81c387a8fc30, name #{Vendors}>"
      ]
     },
     "execution_count": 3,
     "metadata": {},
     "output_type": "execute_result"
    }
   ],
   "source": [
    "component = analysis.draft.components.find(\"Vendors\")\n",
    "component"
   ]
  },
  {
   "cell_type": "markdown",
   "metadata": {},
   "source": [
    "### Extract the OLAP table with the the get_data_frame() function."
   ]
  },
  {
   "cell_type": "code",
   "execution_count": 4,
   "metadata": {
    "scrolled": true
   },
   "outputs": [
    {
     "data": {
      "text/html": [
       "<div>\n",
       "<style scoped>\n",
       "    .dataframe tbody tr th:only-of-type {\n",
       "        vertical-align: middle;\n",
       "    }\n",
       "\n",
       "    .dataframe tbody tr th {\n",
       "        vertical-align: top;\n",
       "    }\n",
       "\n",
       "    .dataframe thead th {\n",
       "        text-align: right;\n",
       "    }\n",
       "</style>\n",
       "<table border=\"1\" class=\"dataframe\">\n",
       "  <thead>\n",
       "    <tr style=\"text-align: right;\">\n",
       "      <th></th>\n",
       "      <th>LFA1.LIFNR</th>\n",
       "      <th>LFA1.LAND1</th>\n",
       "    </tr>\n",
       "  </thead>\n",
       "  <tbody>\n",
       "    <tr>\n",
       "      <th>0</th>\n",
       "      <td>SORAYA45</td>\n",
       "      <td>ES</td>\n",
       "    </tr>\n",
       "    <tr>\n",
       "      <th>1</th>\n",
       "      <td>SP-CARA</td>\n",
       "      <td>IT</td>\n",
       "    </tr>\n",
       "    <tr>\n",
       "      <th>2</th>\n",
       "      <td>SP-CARB</td>\n",
       "      <td>IT</td>\n",
       "    </tr>\n",
       "    <tr>\n",
       "      <th>3</th>\n",
       "      <td>SRV-2</td>\n",
       "      <td>DE</td>\n",
       "    </tr>\n",
       "    <tr>\n",
       "      <th>4</th>\n",
       "      <td>SS_FLEET1</td>\n",
       "      <td>US</td>\n",
       "    </tr>\n",
       "  </tbody>\n",
       "</table>\n",
       "</div>"
      ],
      "text/plain": [
       "  LFA1.LIFNR LFA1.LAND1\n",
       "0   SORAYA45         ES\n",
       "1    SP-CARA         IT\n",
       "2    SP-CARB         IT\n",
       "3      SRV-2         DE\n",
       "4  SS_FLEET1         US"
      ]
     },
     "execution_count": 4,
     "metadata": {},
     "output_type": "execute_result"
    }
   ],
   "source": [
    "df = component.get_data_frame()\n",
    "df.head()"
   ]
  },
  {
   "attachments": {
    "image.png": {
     "image/png": "[encoded data removed]"
    }
   },
   "cell_type": "markdown",
   "metadata": {},
   "source": [
    "### Add a PQL column to that table\n",
    "\n",
    "In this section, we add a column to the PQL query and extract the table again with the new column. For this, we need to import pycelonis.pql"
   ]
  },
  {
   "attachments": {
    "image.png": {
     "image/png": "[encoded data removed]"
    }
   },
   "cell_type": "markdown",
   "metadata": {},
   "source": [
    "Create a PQL column object. \n",
    "\n",
    "Here we want, additionally to the vendor's number and country, the city of the vendor. The city can be found in the column ORT01 of the LFA1 table. It is very important here that we use the exact same syntax (\"LFA1\".\"ORT01\") as we would use it in Celonis. Common errors that could happen here are:\n",
    "* Missing double quotes e.g. LFA1\".\"ORT01\"\n",
    "* Spelling mistakes of the table's name e.g. \"LFA\".\"ORT01\"\n",
    "* Spelling mistakes in the table's column e.g. \"LFA1\".\"ORT0\"\n",
    "\n",
    "The errors will occur first when we pull the data. In case you get an error message there, first check the spelling of your PQL query"
   ]
  },
  {
   "cell_type": "code",
   "execution_count": 1,
   "metadata": {},
   "outputs": [],
   "source": [
    "from pycelonis.pql import PQLColumn\n",
    "query = component.pql_query\n",
    "column = PQLColumn(query = '\"LFA1\".\"ORT01\"', name= \"City\", sorting_index = 3, sorting_direction = 'DESC')"
   ]
  },
  {
   "cell_type": "markdown",
   "metadata": {},
   "source": [
    "Now we add the column to the query original component pql query"
   ]
  },
  {
   "cell_type": "code",
   "execution_count": 9,
   "metadata": {},
   "outputs": [],
   "source": [
    "query.add(column)"
   ]
  },
  {
   "cell_type": "markdown",
   "metadata": {},
   "source": [
    "The column is added to the PQL query and we can extract the table now with the additional column \"LFA1\".\"ORT01\""
   ]
  },
  {
   "cell_type": "code",
   "execution_count": 10,
   "metadata": {},
   "outputs": [
    {
     "data": {
      "text/html": [
       "<div>\n",
       "<style scoped>\n",
       "    .dataframe tbody tr th:only-of-type {\n",
       "        vertical-align: middle;\n",
       "    }\n",
       "\n",
       "    .dataframe tbody tr th {\n",
       "        vertical-align: top;\n",
       "    }\n",
       "\n",
       "    .dataframe thead th {\n",
       "        text-align: right;\n",
       "    }\n",
       "</style>\n",
       "<table border=\"1\" class=\"dataframe\">\n",
       "  <thead>\n",
       "    <tr style=\"text-align: right;\">\n",
       "      <th></th>\n",
       "      <th>LFA1.LIFNR</th>\n",
       "      <th>LFA1.LAND1</th>\n",
       "      <th>City</th>\n",
       "    </tr>\n",
       "  </thead>\n",
       "  <tbody>\n",
       "    <tr>\n",
       "      <td>0</td>\n",
       "      <td>0000000030</td>\n",
       "      <td>ES</td>\n",
       "      <td>santander</td>\n",
       "    </tr>\n",
       "    <tr>\n",
       "      <td>1</td>\n",
       "      <td>0000000290</td>\n",
       "      <td>ES</td>\n",
       "      <td>santander</td>\n",
       "    </tr>\n",
       "    <tr>\n",
       "      <td>2</td>\n",
       "      <td>RFDC</td>\n",
       "      <td>US</td>\n",
       "      <td>refcity</td>\n",
       "    </tr>\n",
       "    <tr>\n",
       "      <td>3</td>\n",
       "      <td>0000009907</td>\n",
       "      <td>DE</td>\n",
       "      <td>rankfurt</td>\n",
       "    </tr>\n",
       "    <tr>\n",
       "      <td>4</td>\n",
       "      <td>0000005001</td>\n",
       "      <td>JP</td>\n",
       "      <td>osaka</td>\n",
       "    </tr>\n",
       "  </tbody>\n",
       "</table>\n",
       "</div>"
      ],
      "text/plain": [
       "   LFA1.LIFNR LFA1.LAND1       City\n",
       "0  0000000030         ES  santander\n",
       "1  0000000290         ES  santander\n",
       "2        RFDC         US    refcity\n",
       "3  0000009907         DE   rankfurt\n",
       "4  0000005001         JP      osaka"
      ]
     },
     "execution_count": 10,
     "metadata": {},
     "output_type": "execute_result"
    }
   ],
   "source": [
    "df = analysis.get_data_frame(query)\n",
    "df.head()"
   ]
  },
  {
   "attachments": {
    "image.png": {
     "image/png": "[encoded data removed]"
    }
   },
   "cell_type": "markdown",
   "metadata": {},
   "source": [
    "### Advanced: Add filters and variables from \"Share your selections\"\n",
    "![image.png](attachment:image.png)"
   ]
  },
  {
   "cell_type": "markdown",
   "metadata": {},
   "source": [
    "### Make a selection and/or change variables and copy the url into the cell below"
   ]
  },
  {
   "cell_type": "code",
   "execution_count": 6,
   "metadata": {},
   "outputs": [],
   "source": [
    "url = \"https://ml-appstore.eu-1.celonis.cloud/process-mining/analysis/440cb0ba-7f00-4ec9-a50a-f9f8772e5893/link/frontend/documents/440cb0ba-7f00-4ec9-a50a-f9f8772e5893/view/sheets/5066b16f-f342-4be4-a70c-b744684e5ac3/b/0dd91c45-73c2-4312-93c5-d7602bcc640b\"\n",
    "selection = analysis.process_shared_selection_url(url)"
   ]
  },
  {
   "cell_type": "markdown",
   "metadata": {},
   "source": [
    "### Add the selection query to the component query and pull the data from the analysis"
   ]
  },
  {
   "cell_type": "code",
   "execution_count": 7,
   "metadata": {},
   "outputs": [
    {
     "data": {
      "text/html": [
       "<div>\n",
       "<style scoped>\n",
       "    .dataframe tbody tr th:only-of-type {\n",
       "        vertical-align: middle;\n",
       "    }\n",
       "\n",
       "    .dataframe tbody tr th {\n",
       "        vertical-align: top;\n",
       "    }\n",
       "\n",
       "    .dataframe thead th {\n",
       "        text-align: right;\n",
       "    }\n",
       "</style>\n",
       "<table border=\"1\" class=\"dataframe\">\n",
       "  <thead>\n",
       "    <tr style=\"text-align: right;\">\n",
       "      <th></th>\n",
       "      <th>LFA1.LIFNR</th>\n",
       "      <th>LFA1.LAND1</th>\n",
       "    </tr>\n",
       "  </thead>\n",
       "  <tbody>\n",
       "    <tr>\n",
       "      <th>0</th>\n",
       "      <td>SORAYA45</td>\n",
       "      <td>ES</td>\n",
       "    </tr>\n",
       "    <tr>\n",
       "      <th>1</th>\n",
       "      <td>SP-CARA</td>\n",
       "      <td>IT</td>\n",
       "    </tr>\n",
       "    <tr>\n",
       "      <th>2</th>\n",
       "      <td>SP-CARB</td>\n",
       "      <td>IT</td>\n",
       "    </tr>\n",
       "  </tbody>\n",
       "</table>\n",
       "</div>"
      ],
      "text/plain": [
       "  LFA1.LIFNR LFA1.LAND1\n",
       "0   SORAYA45         ES\n",
       "1    SP-CARA         IT\n",
       "2    SP-CARB         IT"
      ]
     },
     "execution_count": 7,
     "metadata": {},
     "output_type": "execute_result"
    }
   ],
   "source": [
    "query = component.pql_query\n",
    "query += selection\n",
    "analysis.get_data_frame(query)"
   ]
  }
 ],
 "metadata": {
  "jupytext": {
   "formats": "ipynb,py:percent"
  },
  "kernelspec": {
   "display_name": "Python 3",
   "language": "python",
   "name": "python3"
  },
  "language_info": {
   "codemirror_mode": {
    "name": "ipython",
    "version": 3
   },
   "file_extension": ".py",
   "mimetype": "text/x-python",
   "name": "python",
   "nbconvert_exporter": "python",
   "pygments_lexer": "ipython3",
   "version": "3.7.4"
  }
 },
 "nbformat": 4,
 "nbformat_minor": 4
}
