{
 "cells": [
  {
   "cell_type": "markdown",
   "metadata": {},
   "source": [
    "# How to Extract Datadog Log Data Into the IBC"
   ]
  },
  {
   "cell_type": "raw",
   "metadata": {},
   "source": [
    "Documentation: https://confluence.celonis.com/pages/viewpage.action?pageId=105841328\n",
    "Placeholder for use case-specific info is XXXXX"
   ]
  },
  {
   "cell_type": "markdown",
   "metadata": {},
   "source": [
    "## Set up Required Packages and Settings"
   ]
  },
  {
   "cell_type": "code",
   "execution_count": null,
   "metadata": {},
   "outputs": [],
   "source": [
    "import pandas as pd\n",
    "from pandas.io.json import json_normalize\n",
    "from pycelonis import get_celonis\n",
    "import requests\n",
    "from time import sleep\n",
    "\n",
    "pd.set_option('max_colwidth', 300)"
   ]
  },
  {
   "cell_type": "markdown",
   "metadata": {},
   "source": [
    "## Define API Requests Parameters"
   ]
  },
  {
   "cell_type": "code",
   "execution_count": null,
   "metadata": {},
   "outputs": [],
   "source": [
    "baseUrlLogs = 'https://api.datadoghq.com/api/v1/logs-queries/list'\n",
    "\n",
    "headers = {\n",
    "  'content-type': 'application/json',\n",
    "  'DD-API-KEY': 'XXXXX',\n",
    "  'DD-APPLICATION-KEY': 'XXXXX'\n",
    "}\n",
    "\n",
    "\n",
    "startDate = \"XXXXX\"  #ISO-8601 string, unix timestamp or relative time (such as \"now-1h\" or \"now-1d\")\n",
    "endDate = \"XXXXX\"  #ISO-8601 string, unix timestamp or relative time (such as \"now\")\n",
    "\n",
    "  \n",
    "bodyLogXXXXX = {\n",
    "  \"query\": \"XXXXX\",  #Datadog log explorer query, e.g.:\"@errorType:(INTERNAL OR EXTERNAL)\"\n",
    "  \"sort\": \"asc\",\n",
    "  \"time\": {\n",
    "          \"from\": startDate,\n",
    "          \"to\": endDate\n",
    "  },\n",
    "  \"limit\": 1,\n",
    "}"
   ]
  },
  {
   "cell_type": "markdown",
   "metadata": {},
   "source": [
    "## Define Required Helper Functions"
   ]
  },
  {
   "cell_type": "markdown",
   "metadata": {},
   "source": [
    "#### Get newest log ID"
   ]
  },
  {
   "cell_type": "code",
   "execution_count": null,
   "metadata": {},
   "outputs": [],
   "source": [
    "def get_newestLogId_logXXXXX():\n",
    "    print('Getting newest log ID')\n",
    "    newestLogId = \"\"\n",
    "    response = requests.post(baseUrlLogs, headers=headers, json=bodyLogXXXXX)\n",
    "    newestLogId = json_normalize(response.json()['logs'])['id'] \n",
    "    newestLogId = newestLogId.to_string(index=False)[1:]\n",
    "    print('Newest log ID retrieved')\n",
    "    return newestLogId"
   ]
  },
  {
   "cell_type": "markdown",
   "metadata": {},
   "source": [
    "## Fetch Data"
   ]
  },
  {
   "cell_type": "markdown",
   "metadata": {},
   "source": [
    "#### Get most current log ID as starting point for API request"
   ]
  },
  {
   "cell_type": "code",
   "execution_count": null,
   "metadata": {},
   "outputs": [],
   "source": [
    "nextLogId_logXXXXX = get_newestLogId_logXXXXX()"
   ]
  },
  {
   "cell_type": "markdown",
   "metadata": {},
   "source": [
    "#### Get log data and convert it to dataframe"
   ]
  },
  {
   "cell_type": "code",
   "execution_count": null,
   "metadata": {},
   "outputs": [],
   "source": [
    "print('Getting log XXXXX')\n",
    "logXXXXX = pd.DataFrame()\n",
    "while nextLogId_logXXXXX != None:\n",
    "    response = requests.post(baseUrlLogs, headers=headers, json={\n",
    "                                                            \"limit\": 1000,\n",
    "                                                            \"query\": \"XXXXX\",\n",
    "                                                            \"startAt\": nextLogId_logXXXXX,\n",
    "                                                            \"sort\": \"asc\",\n",
    "                                                            \"time\": {\n",
    "                                                                    \"from\": startDate,\n",
    "                                                                    \"to\": endDate\n",
    "                                                                    },\n",
    "                                                            })                \n",
    "    data = json_normalize(response.json()['logs'])[['XXXXX'\n",
    "                                                    , 'XXXXX'\n",
    "                                                    , ...\n",
    "                                                    ]]\n",
    "    \n",
    "    #additional functionalities to isolate information from message string, set data types, etc. as required\n",
    "    \n",
    "    nextLogId_logXXXXX = response.json()['nextLogId']\n",
    "    logXXXXX = logXXXXX.append(data, ignore_index=True, sort=False)\n",
    "    sleep(0.1)\n",
    "print('Log XXXXX retrieved')"
   ]
  },
  {
   "cell_type": "markdown",
   "metadata": {},
   "source": [
    "## Push Data to the IBC"
   ]
  },
  {
   "cell_type": "markdown",
   "metadata": {},
   "source": [
    "#### Connect to IBC team and identify data pool (here: manually)"
   ]
  },
  {
   "cell_type": "code",
   "execution_count": null,
   "metadata": {},
   "outputs": [],
   "source": [
    "login = {\n",
    "    'celonis_url': 'XXXXX',\n",
    "    'api_token': 'XXXXX',\n",
    "}\n",
    "celonis_manual = get_celonis(**login)\n",
    "\n",
    "data_pool = celonis_manual.pools.find('XXXXX')\n",
    "data_pool"
   ]
  },
  {
   "cell_type": "markdown",
   "metadata": {},
   "source": [
    "#### Push dataframes into IBC team/data pool"
   ]
  },
  {
   "cell_type": "code",
   "execution_count": null,
   "metadata": {},
   "outputs": [],
   "source": [
    "print('Starting to push data to IBC')\n",
    "data_pool.push_table(logXXXXX, 'DD_LOG_XXXXX', if_exists = 'upsert', primary_keys = ['id'])\n",
    "print('Data push successful')"
   ]
  }
 ],
 "metadata": {
  "kernelspec": {
   "display_name": "Python 3",
   "language": "python",
   "name": "python3"
  },
  "language_info": {
   "codemirror_mode": {
    "name": "ipython",
    "version": 3
   },
   "file_extension": ".py",
   "mimetype": "text/x-python",
   "name": "python",
   "nbconvert_exporter": "python",
   "pygments_lexer": "ipython3",
   "version": "3.7.6"
  }
 },
 "nbformat": 4,
 "nbformat_minor": 4
}
