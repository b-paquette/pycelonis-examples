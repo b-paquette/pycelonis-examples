{
 "cells": [
  {
   "cell_type": "markdown",
   "id": "77c1a358-1d72-43d6-91f4-5c1bed16e682",
   "metadata": {},
   "source": [
    "# Data Imports via API\n",
    "#### Historical and forecast weather data used as an example"
   ]
  },
  {
   "cell_type": "markdown",
   "id": "c467d46e-4b6d-482d-a995-557bfec50900",
   "metadata": {},
   "source": [
    "## Step 1: Import Required Libraries"
   ]
  },
  {
   "cell_type": "code",
   "execution_count": 2,
   "id": "33648981-2703-4262-b8fd-caf1c9d80048",
   "metadata": {},
   "outputs": [],
   "source": [
    "#Libraries specifically required for API imports\n",
    "import yaml\n",
    "from yaml import load, dump\n",
    "\n",
    "import requests\n",
    "from pandas.io.json import json_normalize\n",
    "\n",
    "#Other libraries that are always good to have\n",
    "import pandas as pd\n",
    "import numpy as np\n",
    "from datetime import date, timedelta, time, datetime\n",
    "import matplotlib.pyplot as plt\n",
    "\n",
    "\n",
    "#Note: if it is your first time importing a library, run a PIP install like so. Ensure you keep the exclamation point\n",
    "\n",
    "# ! pip install library_name\n",
    "\n"
   ]
  },
  {
   "cell_type": "markdown",
   "id": "155c6433-adda-4ddb-8afb-15d5ebdf5ffe",
   "metadata": {},
   "source": [
    "## Optional - Step 2: connect to Celonis\n",
    "#### complete only if you need to integrate the API data with Celonis data / analyses"
   ]
  },
  {
   "cell_type": "code",
   "execution_count": null,
   "id": "a5ffde80-8843-4352-b5f4-d17de82fd106",
   "metadata": {
    "tags": []
   },
   "outputs": [],
   "source": [
    "from pycelonis import get_celonis, pql\n",
    "\n",
    "celonis = get_celonis(\"team\", \n",
    "                      \"key\")\n",
    "\n",
    "#team is something like: https://berkshirehathawayenergy.us-2.celonis.cloud/\n",
    "#the key can be created by going to Edit Profile (under the circular button in top right) --> create API key"
   ]
  },
  {
   "cell_type": "markdown",
   "id": "b64b326c-7070-4532-b85b-11e434c82a10",
   "metadata": {},
   "source": [
    "## Optional - Step 3: load data from Celonis data model\n",
    "#### Complete only if you need to integrate API data with Celonis data/analyses. All code is sample code and should be adjusted to fit your data."
   ]
  },
  {
   "cell_type": "code",
   "execution_count": null,
   "id": "4cd5616b-f39c-49c0-a2ea-56ebc0b205df",
   "metadata": {
    "tags": []
   },
   "outputs": [],
   "source": [
    "\n",
    "#use the code below if you are querying directly from a data model\n",
    "    # dm_id = 'data_model_id'\n",
    "    # datamodel = celonis.datamodels.find(dm_id)\n",
    "\n",
    "#use the code below to query from studio\n",
    "    # package = celonis.packages.find('package_id')\n",
    "    # source_analysis = package.analyses.find('analysis_id')\n",
    "\n",
    "    \n",
    "#use the code below to create your PQL query (examples of aggregate functions and filter statements are provided)\n",
    "    # q1 = pql.PQL()\n",
    "    # q1 += pql.PQLColumn(\"ROUND_DAY(table.field1)\", \"Date\")\n",
    "    # q1 += pql.PQLColumn(\"SUM(table.field2)\", \"Actual\")\n",
    "    # q1 += pql.PQLColumn(\"table.field3\", \"Region\")\n",
    "    # q1 += pql.PQLFilter(\"table.field2 IS NOT NULL; \")\n",
    "    # q1 += pql.PQLFilter(\"table.field1 > TO_DATE ( '2019-08-17 00:00:00' , FORMAT ( '%Y-%m-%d %H:%M:%S' )); \")\n",
    "\n",
    "#use the code below to create your dataframe\n",
    "    # df1 = datamodel.get_data_frame(q1)\n",
    "\n"
   ]
  },
  {
   "cell_type": "markdown",
   "id": "165afba5-2e3e-41d6-803d-6b46d597cb28",
   "metadata": {},
   "source": [
    "## Step 4: Import Data via API\n",
    "#### To request your own API token for NOAA weather data, go here: https://www.ncdc.noaa.gov/cdo-web/token\n",
    "#### To find the dataset and station ID you need, go here: https://www.ncdc.noaa.gov/cdo-web/webservices/v2"
   ]
  },
  {
   "cell_type": "code",
   "execution_count": null,
   "id": "3e8fbbf5-032c-400c-883e-2cbdfb4817be",
   "metadata": {
    "tags": []
   },
   "outputs": [],
   "source": [
    "# ADJUSTMENT REQUIRED - Define the amount of time that you will pull data for (in days)\n",
    "timeframe = 30\n",
    "\n",
    "#usually the max date will be Today's date\n",
    "max_date = datetime.today().strftime(\"%Y-%m-%d\")\n",
    "\n",
    "#the min date will be the Today's date offset by the timeframe indicated above\n",
    "min_date = datetime.today() + timedelta(days=timeframe*(-1))\n",
    "min_date = min_date.strftime(\"%Y-%m-%d\")\n",
    "\n",
    "# ADJUSTMENT REQUIRED - define the data set ID (refer to link above to find dataset IDs)\n",
    "datasetid = 'GHCND'\n",
    "\n",
    "# ADJUSTMENT REQUIRED - define the station ID (refer to link above to find station IDs)\n",
    "stationid = 'GHCND:USW00023169'\n",
    "\n",
    "# ADJUSTMENT REQUIRED - define the token\n",
    "token = 'xyz'\n",
    "\n",
    "# run this code to obtain the request\n",
    "url = 'https://www.ncdc.noaa.gov/cdo-web/api/v2/data?datasetid=' + datasetid +'&stationid=' + stationid + '&startdate=' + min_date + '&enddate=' + max_date + '&units=standard&limit=1000'\n",
    "payload = {}\n",
    "headers = {\n",
    "    'token': token\n",
    "}\n",
    "\n",
    "\n",
    "#run the query to get raw data, put raw data into JSON format\n",
    "data = requests.request(\"GET\", url, headers=headers, json = payload)\n",
    "data = data.json()\n",
    "\n",
    "\n",
    "data"
   ]
  },
  {
   "cell_type": "markdown",
   "id": "86df13a1-21a5-4b01-81ac-78aa0bd83403",
   "metadata": {},
   "source": [
    "## Step 5: create a dataframe from your JSON data using json_normalize function\n",
    "#### 'results' should be replaced with the JSON object you need"
   ]
  },
  {
   "cell_type": "code",
   "execution_count": 8,
   "id": "f6ec8959-d4ba-4237-abf4-161e5c8466cd",
   "metadata": {
    "tags": []
   },
   "outputs": [
    {
     "data": {
      "text/html": [
       "<div>\n",
       "<style scoped>\n",
       "    .dataframe tbody tr th:only-of-type {\n",
       "        vertical-align: middle;\n",
       "    }\n",
       "\n",
       "    .dataframe tbody tr th {\n",
       "        vertical-align: top;\n",
       "    }\n",
       "\n",
       "    .dataframe thead th {\n",
       "        text-align: right;\n",
       "    }\n",
       "</style>\n",
       "<table border=\"1\" class=\"dataframe\">\n",
       "  <thead>\n",
       "    <tr style=\"text-align: right;\">\n",
       "      <th></th>\n",
       "      <th>date</th>\n",
       "      <th>datatype</th>\n",
       "      <th>station</th>\n",
       "      <th>attributes</th>\n",
       "      <th>value</th>\n",
       "    </tr>\n",
       "  </thead>\n",
       "  <tbody>\n",
       "    <tr>\n",
       "      <th>0</th>\n",
       "      <td>2021-08-25T00:00:00</td>\n",
       "      <td>AWND</td>\n",
       "      <td>GHCND:USW00023169</td>\n",
       "      <td>,,W,</td>\n",
       "      <td>7.4</td>\n",
       "    </tr>\n",
       "    <tr>\n",
       "      <th>1</th>\n",
       "      <td>2021-08-25T00:00:00</td>\n",
       "      <td>PRCP</td>\n",
       "      <td>GHCND:USW00023169</td>\n",
       "      <td>,,W,2400</td>\n",
       "      <td>0.0</td>\n",
       "    </tr>\n",
       "    <tr>\n",
       "      <th>2</th>\n",
       "      <td>2021-08-25T00:00:00</td>\n",
       "      <td>SNOW</td>\n",
       "      <td>GHCND:USW00023169</td>\n",
       "      <td>,,W,</td>\n",
       "      <td>0.0</td>\n",
       "    </tr>\n",
       "    <tr>\n",
       "      <th>3</th>\n",
       "      <td>2021-08-25T00:00:00</td>\n",
       "      <td>SNWD</td>\n",
       "      <td>GHCND:USW00023169</td>\n",
       "      <td>,,W,</td>\n",
       "      <td>0.0</td>\n",
       "    </tr>\n",
       "    <tr>\n",
       "      <th>4</th>\n",
       "      <td>2021-08-25T00:00:00</td>\n",
       "      <td>TAVG</td>\n",
       "      <td>GHCND:USW00023169</td>\n",
       "      <td>H,,S,</td>\n",
       "      <td>92.0</td>\n",
       "    </tr>\n",
       "    <tr>\n",
       "      <th>...</th>\n",
       "      <td>...</td>\n",
       "      <td>...</td>\n",
       "      <td>...</td>\n",
       "      <td>...</td>\n",
       "      <td>...</td>\n",
       "    </tr>\n",
       "    <tr>\n",
       "      <th>279</th>\n",
       "      <td>2021-09-20T00:00:00</td>\n",
       "      <td>SNOW</td>\n",
       "      <td>GHCND:USW00023169</td>\n",
       "      <td>,,D,</td>\n",
       "      <td>0.0</td>\n",
       "    </tr>\n",
       "    <tr>\n",
       "      <th>280</th>\n",
       "      <td>2021-09-20T00:00:00</td>\n",
       "      <td>TAVG</td>\n",
       "      <td>GHCND:USW00023169</td>\n",
       "      <td>H,,S,</td>\n",
       "      <td>81.0</td>\n",
       "    </tr>\n",
       "    <tr>\n",
       "      <th>281</th>\n",
       "      <td>2021-09-20T00:00:00</td>\n",
       "      <td>TMAX</td>\n",
       "      <td>GHCND:USW00023169</td>\n",
       "      <td>,,D,2400</td>\n",
       "      <td>88.0</td>\n",
       "    </tr>\n",
       "    <tr>\n",
       "      <th>282</th>\n",
       "      <td>2021-09-20T00:00:00</td>\n",
       "      <td>TMIN</td>\n",
       "      <td>GHCND:USW00023169</td>\n",
       "      <td>,,D,2400</td>\n",
       "      <td>73.0</td>\n",
       "    </tr>\n",
       "    <tr>\n",
       "      <th>283</th>\n",
       "      <td>2021-09-21T00:00:00</td>\n",
       "      <td>TAVG</td>\n",
       "      <td>GHCND:USW00023169</td>\n",
       "      <td>H,,S,</td>\n",
       "      <td>80.0</td>\n",
       "    </tr>\n",
       "  </tbody>\n",
       "</table>\n",
       "<p>284 rows × 5 columns</p>\n",
       "</div>"
      ],
      "text/plain": [
       "                    date datatype            station attributes  value\n",
       "0    2021-08-25T00:00:00     AWND  GHCND:USW00023169       ,,W,    7.4\n",
       "1    2021-08-25T00:00:00     PRCP  GHCND:USW00023169   ,,W,2400    0.0\n",
       "2    2021-08-25T00:00:00     SNOW  GHCND:USW00023169       ,,W,    0.0\n",
       "3    2021-08-25T00:00:00     SNWD  GHCND:USW00023169       ,,W,    0.0\n",
       "4    2021-08-25T00:00:00     TAVG  GHCND:USW00023169      H,,S,   92.0\n",
       "..                   ...      ...                ...        ...    ...\n",
       "279  2021-09-20T00:00:00     SNOW  GHCND:USW00023169       ,,D,    0.0\n",
       "280  2021-09-20T00:00:00     TAVG  GHCND:USW00023169      H,,S,   81.0\n",
       "281  2021-09-20T00:00:00     TMAX  GHCND:USW00023169   ,,D,2400   88.0\n",
       "282  2021-09-20T00:00:00     TMIN  GHCND:USW00023169   ,,D,2400   73.0\n",
       "283  2021-09-21T00:00:00     TAVG  GHCND:USW00023169      H,,S,   80.0\n",
       "\n",
       "[284 rows x 5 columns]"
      ]
     },
     "execution_count": 8,
     "metadata": {},
     "output_type": "execute_result"
    }
   ],
   "source": [
    "df=pd.json_normalize(data['results'])\n",
    "df"
   ]
  },
  {
   "cell_type": "markdown",
   "id": "f8851b47-4f28-47c4-a0be-d6018eae9f61",
   "metadata": {},
   "source": [
    "## Optional - Step 6: Helpful Formatting Functions\n",
    "#### This step provides examples functions that can be used to manipulate your API output. These sample functions refer to a generic dataframe titled \"df\". \"df\" should be replaced with your dataframe name.\n"
   ]
  },
  {
   "cell_type": "code",
   "execution_count": null,
   "id": "0747aebc-7e0f-41f3-be38-713ae624dbce",
   "metadata": {},
   "outputs": [],
   "source": [
    "#limit how much output ALL functions in the workbook will show\n",
    "pd.set_option('display.max_rows', None)\n",
    "\n",
    "#sort dataframe values by Date\n",
    "df = df.sort_values(by=[\"column_name\"])\n",
    "\n",
    "#drop the last two rows of the dataframe\n",
    "df.drop(df.tail(2).index,inplace = True)\n",
    "\n",
    "#reset the index of the dataframe\n",
    "df = df.reset_index(drop=True)\n",
    "\n",
    "#rename a column\n",
    "df = df.rename(columns={\"current_column_name\": \"new_column_name\"})\n",
    "\n",
    "#change datatype of a column\n",
    "df['date_column_name'] = pd.to_datetime(df['date_column_name'])\n",
    "\n",
    "#filter dataset\n",
    "df = df[df['date_column_name'] >  pd.Timestamp(datetime.now())]\n",
    "\n",
    "#drop columns\n",
    "df = df.drop(columns=['column1', 'column2', 'column3'])"
   ]
  },
  {
   "cell_type": "markdown",
   "id": "ea3e2a7c-0333-49b7-82e2-68d92048857d",
   "metadata": {},
   "source": [
    "## Optional - Step 7: push data to Celonis\n",
    "#### Only use if you need to push API data to your Celonis data pool (usually API data is just used as an input to a model in MLWB and does not need to be pushed to the Celonis data)"
   ]
  },
  {
   "cell_type": "code",
   "execution_count": null,
   "id": "1cd5ab28-59a7-4c3f-9163-8a26a68091eb",
   "metadata": {},
   "outputs": [],
   "source": [
    "#define the data pool\n",
    "data_pool = celonis.pools.find(\"data_pool_id\")\n",
    "\n",
    "#option 1 - replace existing table\n",
    "data_pool.push_table(df,\"table_name_in_data_pool\", if_exists = 'replace')\n",
    "\n",
    "\n",
    "#option 2 - upsert data (similar to a delta load) using primary key of table\n",
    "data_pool.upsert_table(table_name=\"table_name_in_data_pool\",\n",
    "                       df_or_path=df,\n",
    "                       primary_keys=['primary_key'])\n",
    "\n"
   ]
  }
 ],
 "metadata": {
  "kernelspec": {
   "display_name": "Python 3",
   "language": "python",
   "name": "python3"
  },
  "language_info": {
   "codemirror_mode": {
    "name": "ipython",
    "version": 3
   },
   "file_extension": ".py",
   "mimetype": "text/x-python",
   "name": "python",
   "nbconvert_exporter": "python",
   "pygments_lexer": "ipython3",
   "version": "3.8.6"
  }
 },
 "nbformat": 4,
 "nbformat_minor": 5
}
