{
 "cells": [
  {
   "cell_type": "markdown",
   "id": "15ffaabc",
   "metadata": {},
   "source": [
    "# User Interface for the Pycelonis migration script"
   ]
  },
  {
   "cell_type": "markdown",
   "id": "f505a141",
   "metadata": {},
   "source": [
    "- **PROJECT DESCRIPTION:** This project migrates a given code (either .py or .ipynb) to pycelonis 2.0. It consists of two scripts, this one you are reading (**Pycelonis_Migration_UI.ipynb**) which is the **ONLY ONE THE USER SHOULD OPEN**; and the pycelonis_migration.py, which can be regarded as the backend of this project. The former should only be modified if you are planning on collaborating in enhancing this project.<br>\n",
    "<br>\n",
    "    This whole project creates a modified copy of the original code (Inside the project's folder) and it afterwards produces a diff HTML file to easily visualize the changes. The modified code has the same name as the original one inputed in code_path, but with \"_migrated_automatically\" between the original name and the file extension. If you open the new outputted file, you can also see every line that was changed because it will have a comment with either # CHANGED or # CHECK MANUALLY.<br>\n",
    "<br>\n",
    "- **UI Overview**: The overall structure of this code (**Pycelonis_Migration_UI.ipynb**) is:<br>\n",
    "&emsp;- Inputs: You just need to input a working path as a string in the variable code_path<br>\n",
    "&emsp;- Outputs: You are going to get another code file with the migrated version, as well as an HTML file to visualize the output easily.<br>\n",
    "\n",
    "The whole aim is for you to test the modified code (_migrated_automatically) and look for the changes to see if they are properly working. This project doesn't cover all the use cases, so **you should manually check the output afterwards**. Altough it is not perfect, it can definetely help you save a lot of time."
   ]
  },
  {
   "cell_type": "code",
   "execution_count": null,
   "id": "523df5c4",
   "metadata": {},
   "outputs": [],
   "source": [
    "import pycelonis_migration\n",
    "from IPython.display import IFrame"
   ]
  },
  {
   "cell_type": "markdown",
   "id": "90823215",
   "metadata": {},
   "source": [
    "Fullfill the next cell with the path to the code you want to migrate. It can either be a notebook or a plain .py file"
   ]
  },
  {
   "cell_type": "code",
   "execution_count": null,
   "id": "f9be9117",
   "metadata": {},
   "outputs": [],
   "source": [
    "code_path = \"/Users/tests/Downloads/test_code.ipynb\""
   ]
  },
  {
   "cell_type": "code",
   "execution_count": null,
   "id": "cfd4531a",
   "metadata": {},
   "outputs": [],
   "source": [
    "pycelonis_migration.main(path=code_path)"
   ]
  },
  {
   "cell_type": "code",
   "execution_count": null,
   "id": "88476ecb",
   "metadata": {},
   "outputs": [],
   "source": [
    "IFrame(\"diff.html\", width=1000, height=600)"
   ]
  },
  {
   "cell_type": "code",
   "execution_count": null,
   "id": "00d11c77",
   "metadata": {},
   "outputs": [],
   "source": []
  }
 ],
 "metadata": {
  "kernelspec": {
   "display_name": "Projects",
   "language": "python",
   "name": "projects"
  },
  "language_info": {
   "codemirror_mode": {
    "name": "ipython",
    "version": 3
   },
   "file_extension": ".py",
   "mimetype": "text/x-python",
   "name": "python",
   "nbconvert_exporter": "python",
   "pygments_lexer": "ipython3",
   "version": "3.9.12"
  }
 },
 "nbformat": 4,
 "nbformat_minor": 5
}
