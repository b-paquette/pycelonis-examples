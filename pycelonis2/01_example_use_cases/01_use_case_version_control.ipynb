{
 "cells": [
  {
   "cell_type": "markdown",
   "metadata": {},
   "source": [
    "# Version Control Use Case\n",
    "This example is solely intended as a demonstration to highlight relevant pycelonis functions and properties. In this example, you will learn how to create text-based backups of analyses, knowledge models, package variables, and transformations. More specifically, you will learn:\n",
    "\n",
    "- How to connect to the EMS\n",
    "- How to create folders\n",
    "- How to create backups of all published analyses, knowledge models, package variables and transformations\n",
    "- Optionally, How to commit the backup folder to GitHub\n",
    "\n",
    "<blockquote>\n",
    "    <strong>NOTE:</strong> Any Celonis objects with a <strong>serialized_content</strong> property can be backed up to a YAML or JSON file.\n",
    "</blockquote>"
   ]
  },
  {
   "cell_type": "markdown",
   "metadata": {},
   "source": [
    "## Prerequisites\n",
    "To follow this tutorial, you should have PyCelonis installed and should know how to perform basic interactions with PyCelonis objects. If you don't know how to do this, please complete the **Celonis Basics** tutorial first. Further, it would be helpful to already have the previously mentioned assets inside your EMS. Please refer to the **Studio - Introduction** and **Data Integration - Data Jobs** tutorials for an overview of working with each asset type."
   ]
  },
  {
   "cell_type": "markdown",
   "metadata": {},
   "source": [
    "### 1. Import PyCelonis, connect to Celonis API, and create the backup folder"
   ]
  },
  {
   "cell_type": "code",
   "execution_count": 1,
   "metadata": {
    "collapsed": false,
    "jupyter": {
     "outputs_hidden": false
    },
    "pycharm": {
     "is_executing": true
    }
   },
   "outputs": [
    {
     "name": "stdout",
     "output_type": "stream",
     "text": [
      "[2023-01-30 20:53:08,556] INFO: Initial connect successful! PyCelonis Version: 2.0.1\n"
     ]
    }
   ],
   "source": [
    "from pycelonis import get_celonis\n",
    "from datetime import datetime as dt\n",
    "from pathlib import Path\n",
    "import json\n",
    "\n",
    "celonis = get_celonis()\n",
    "backup_path = Path('IBC Backup')\n",
    "now = dt.now().strftime(\"%d-%m-%Y_%H-%M\")\n",
    "\n",
    "if not backup_path.exists():\n",
    "    backup_path.mkdir()"
   ]
  },
  {
   "cell_type": "markdown",
   "metadata": {},
   "source": [
    "### 2. Create new backup folders for analyses, knowledge models, variables, and transformations"
   ]
  },
  {
   "cell_type": "code",
   "execution_count": 2,
   "metadata": {
    "collapsed": false,
    "jupyter": {
     "outputs_hidden": false
    }
   },
   "outputs": [
    {
     "name": "stdout",
     "output_type": "stream",
     "text": [
      "IBC Backup/Analyses_30-01-2023_20-53\n",
      "IBC Backup/KnowledgeModels_30-01-2023_20-53\n",
      "IBC Backup/Transformations_30-01-2023_20-53\n",
      "IBC Backup/Variables_30-01-2023_20-53\n"
     ]
    }
   ],
   "source": [
    "analyses_path = backup_path / f\"Analyses_{now}\"\n",
    "kms_path = backup_path / f\"KnowledgeModels_{now}\"\n",
    "vars_path = backup_path / f\"Variables_{now}\"\n",
    "trans_path = backup_path / f\"Transformations_{now}\"\n",
    "\n",
    "print(analyses_path)\n",
    "print(kms_path)\n",
    "print(vars_path)\n",
    "print(trans_path)\n",
    "\n",
    "analyses_path.mkdir()\n",
    "kms_path.mkdir()\n",
    "vars_path.mkdir()\n",
    "trans_path.mkdir()"
   ]
  },
  {
   "cell_type": "markdown",
   "metadata": {},
   "source": [
    "### 3. Create backups of all published analyses, sorted by workspace"
   ]
  },
  {
   "cell_type": "code",
   "execution_count": null,
   "outputs": [],
   "source": [
    "# Helper Function\n",
    "\n",
    "def backup_assets(assets, path):\n",
    "    for asset in assets:\n",
    "\n",
    "        # skip unpublished assets\n",
    "        if asset.activated_draft_id is None:\n",
    "            continue\n",
    "\n",
    "        file_name = f'{asset.key}.{asset.serialization_type.lower()}'\n",
    "        file = path / file_name\n",
    "\n",
    "        file.write_text(asset.serialized_content)"
   ],
   "metadata": {
    "collapsed": false
   }
  },
  {
   "cell_type": "code",
   "execution_count": 4,
   "metadata": {
    "collapsed": false,
    "jupyter": {
     "outputs_hidden": false
    }
   },
   "outputs": [
    {
     "name": "stdout",
     "output_type": "stream",
     "text": [
      "Analyses Backup Complete\n"
     ]
    }
   ],
   "source": [
    "for space in celonis.studio.get_spaces():\n",
    "\n",
    "    space_folder = f\"{space.name}_{space.id}\".replace(\" \", \"_\")\n",
    "\n",
    "    # Create space folders for analyses backup\n",
    "    space_path = analyses_path / space_folder\n",
    "    space_path.mkdir()\n",
    "\n",
    "    # Create backup files\n",
    "    for pkg in space.get_packages():\n",
    "        backup_assets(pkg.get_analyses(), space_path)\n",
    "\n",
    "print(\"Analyses Backup Complete\")"
   ]
  },
  {
   "cell_type": "markdown",
   "metadata": {},
   "source": [
    "### 4. Create backups of all published knowledge models, sorted by workspace"
   ]
  },
  {
   "cell_type": "code",
   "execution_count": 5,
   "metadata": {},
   "outputs": [
    {
     "name": "stdout",
     "output_type": "stream",
     "text": [
      "Knowledge Models Backup Complete\n"
     ]
    }
   ],
   "source": [
    "for space in celonis.studio.get_spaces():\n",
    "\n",
    "    space_folder = f\"{space.name}_{space.id}\".replace(\" \", \"_\")\n",
    "\n",
    "    # Create space folders for knowledge models backup\n",
    "    space_path = kms_path / space_folder\n",
    "    space_path.mkdir()\n",
    "\n",
    "    # Create backup files\n",
    "    for pkg in space.get_packages():\n",
    "        backup_assets(pkg.get_knowledge_models(), space_path)\n",
    "\n",
    "print(\"Knowledge Models Backup Complete\")"
   ]
  },
  {
   "cell_type": "markdown",
   "metadata": {},
   "source": [
    "### 5. Create backups of all package variables, sorted by package"
   ]
  },
  {
   "cell_type": "code",
   "execution_count": null,
   "outputs": [],
   "source": [
    "# Helper Function\n",
    "\n",
    "def backup_variables(variables, package_path):\n",
    "    for variable in variables:\n",
    "\n",
    "        file_name = f\"{variable.key}.json\"\n",
    "        file = package_path / file_name\n",
    "\n",
    "        content = json.dumps({\n",
    "            'key': variable.key,\n",
    "            'type_': variable.type_,\n",
    "            'description': variable.description,\n",
    "            'value': variable.value,\n",
    "            'package_key': variable.package_key\n",
    "            })\n",
    "\n",
    "        file.write_text(content)"
   ],
   "metadata": {
    "collapsed": false
   }
  },
  {
   "cell_type": "code",
   "execution_count": 6,
   "metadata": {},
   "outputs": [
    {
     "name": "stdout",
     "output_type": "stream",
     "text": [
      "Package Variables Backup Complete\n"
     ]
    }
   ],
   "source": [
    "for space in celonis.studio.get_spaces():\n",
    "\n",
    "    space_folder = f\"{space.name}_{space.id}\".replace(\" \", \"_\")\n",
    "\n",
    "    # Create space folders for variables backup\n",
    "    space_path = vars_path / space_folder\n",
    "    space_path.mkdir()\n",
    "\n",
    "    # Create backup files\n",
    "    for pkg in space.get_packages():\n",
    "        pkg_folder = f\"{pkg.name}_{pkg.id}\".replace(\" \", \"_\")\n",
    "        pkg_path = space_path / pkg_folder\n",
    "        \n",
    "        variables = pkg.get_variables()\n",
    "        \n",
    "        # Skip packages without variables\n",
    "        if variables == []:\n",
    "            continue\n",
    "        \n",
    "        pkg_path.mkdir()\n",
    "        backup_variables(variables, pkg_path)\n",
    "\n",
    "print(\"Package Variables Backup Complete\")"
   ]
  },
  {
   "cell_type": "markdown",
   "metadata": {},
   "source": [
    "### 6. Create backups of all transformations, sorted by data job*"
   ]
  },
  {
   "cell_type": "code",
   "execution_count": null,
   "outputs": [],
   "source": [
    "# Helper Function\n",
    "\n",
    "def backup_transformations(transformations, job_path):\n",
    "    for transformation in transformations:\n",
    "\n",
    "        # Handle errors retrieving the statement\n",
    "        try:\n",
    "            statement = transformation.get_statement()\n",
    "            # Skip transformations with no statement\n",
    "            if statement is None:\n",
    "                continue\n",
    "        except Exception as e:\n",
    "            print(f\"FAILED to backup: {transformation.name} with id: {transformation.id} \\n You either don't have permissions to access the asset or the transformation is proprietary to Celonis.\")\n",
    "            continue\n",
    "\n",
    "        file_name = f\"{transformation.name}.json\"\n",
    "        file = job_path / file_name\n",
    "\n",
    "        content = json.dumps({\n",
    "            'id': transformation.id,\n",
    "            'name': transformation.name,\n",
    "            'description': transformation.description,\n",
    "            'statement': statement,\n",
    "            'pool_id': transformation.pool_id,\n",
    "            'job_id': transformation.job_id\n",
    "            })\n",
    "\n",
    "        file.write_text(content)"
   ],
   "metadata": {
    "collapsed": false
   }
  },
  {
   "cell_type": "code",
   "execution_count": 7,
   "metadata": {
    "collapsed": false,
    "jupyter": {
     "outputs_hidden": false
    }
   },
   "outputs": [
    {
     "name": "stdout",
     "output_type": "stream",
     "text": [
      "Transformations Backup Complete\n"
     ]
    }
   ],
   "source": [
    "for pool in celonis.data_integration.get_data_pools():\n",
    "\n",
    "    # Create space folders for analyses backup\n",
    "    pool_folder = f\"{pool.name}_{pool.id}\".replace(\" \", \"_\")\n",
    "    pool_path = trans_path / pool_folder\n",
    "    pool_path.mkdir()\n",
    "\n",
    "    for job in pool.get_jobs():\n",
    "        job_folder = f\"{job.name}_{job.id}\"\n",
    "        job_path = pool_path / job_folder\n",
    "        transformations = job.get_transformations()\n",
    "\n",
    "        # Skip jobs without transformations\n",
    "        if transformations == []:\n",
    "            continue\n",
    "\n",
    "        job_path.mkdir()\n",
    "        backup_transformations(transformations, job_path)\n",
    "\n",
    "print(\"Transformations Backup Complete\")"
   ]
  },
  {
   "cell_type": "markdown",
   "metadata": {},
   "source": [
    "**Transformations downloaded from the marketplace are proprietary to Celonis and are unable to backup*"
   ]
  },
  {
   "cell_type": "markdown",
   "metadata": {},
   "source": [
    "### 7. (Optional) Commit the backup folder to GitHub"
   ]
  },
  {
   "cell_type": "markdown",
   "metadata": {},
   "source": [
    "Navigate to the backup_path on the command line using the *cd* command, then run:\n",
    "\n",
    "    git init\n",
    "    git add .\n",
    "    git commit -m \"Activating version control\""
   ]
  },
  {
   "cell_type": "markdown",
   "metadata": {},
   "source": [
    "## Conclusion\n",
    "Congratulations! You have learned how to connect to the EMS, how to create folders, how to create backups of various assets, and how to commit the backup folder to GitHub."
   ]
  }
 ],
 "metadata": {
  "kernelspec": {
   "display_name": "Python 3 (ipykernel)",
   "language": "python",
   "name": "python3"
  },
  "language_info": {
   "codemirror_mode": {
    "name": "ipython",
    "version": 3
   },
   "file_extension": ".py",
   "mimetype": "text/x-python",
   "name": "python",
   "nbconvert_exporter": "python",
   "pygments_lexer": "ipython3",
   "version": "3.8.13"
  }
 },
 "nbformat": 4,
 "nbformat_minor": 4
}
