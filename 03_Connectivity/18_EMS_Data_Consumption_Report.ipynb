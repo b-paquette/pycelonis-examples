{
 "cells": [
  {
   "cell_type": "markdown",
   "id": "4090f679",
   "metadata": {},
   "source": [
    "# Pull and analyze the APC consumption report\n",
    "\n",
    "##### Recommendation\n",
    "Use the recent (Oct 2021) EMS feature 'Pipeline Monitoring' to easily and flexibly analyze your APC and even your Job executions within Analyses. Documentation is here: https://help.celonis.cloud/help/display/CIBC/Custom+Data+Pipeline+Monitoring\n",
    "##### Purpose of this script\n",
    "Allows to analyze the full APC consumption report (https://TEAM.CLUSTER.celonis.cloud/integration/ui/data-consumption) within the MLW or other environments, by pulling it in python. This can serve as a complement to the EMS features as this allows export and APC aggregation by Data Pool.\n",
    "\n",
    "#### Inputs\n",
    "None if run from the MLWB.\n",
    "Token if run out of the MLW.\n",
    "\n",
    "#### Outputs\n",
    "Consumption report with used GB per table and data pool:\n",
    "* as pandas DataFrame\n",
    "* as CSV file\n",
    "\n",
    "#### Steps\n",
    "1. Import and connect\n",
    "2. Fetch data\n",
    "3. Process date and data volume\n",
    "4. Analyze (group by Data Pool)\n",
    "5. Export as CSV"
   ]
  },
  {
   "cell_type": "markdown",
   "id": "aa8a37bb",
   "metadata": {},
   "source": [
    "## Import and connect"
   ]
  },
  {
   "cell_type": "code",
   "execution_count": null,
   "id": "5ed198a9",
   "metadata": {},
   "outputs": [],
   "source": [
    "import pandas as pd\n",
    "from pycelonis import get_celonis\n",
    "from datetime import datetime as dt\n",
    "import time"
   ]
  },
  {
   "cell_type": "code",
   "execution_count": null,
   "id": "b1c1089b",
   "metadata": {},
   "outputs": [],
   "source": [
    "c = get_celonis()"
   ]
  },
  {
   "cell_type": "markdown",
   "id": "2e46ad2e",
   "metadata": {},
   "source": [
    "## Fetch data"
   ]
  },
  {
   "cell_type": "code",
   "execution_count": null,
   "id": "e5a274cc",
   "metadata": {},
   "outputs": [],
   "source": [
    "def get_consumption_df(c):\n",
    "    page = 0\n",
    "    df=pd.DataFrame()\n",
    "    \n",
    "    # Iterate over pages of data consumption\n",
    "    while True: # while true + if -> break \n",
    "        url = f\"{c.url}/integration//api/pools/data-consumption/?limit=5000&page={page}&sort=consumptionInBytesZA\"\n",
    "        consumption_table = c.api_request(url, message = 'None', method = 'GET', get_json = True)\n",
    "        t_list = consumption_table[\"extendedTableConsumptionTransports\"]\n",
    "        if len(t_list) == 0:\n",
    "            # Reached last page: no more data\n",
    "            break\n",
    "        df = pd.concat([df,pd.DataFrame(t_list)])\n",
    "        page += 1\n",
    "        # Limit api request rate\n",
    "        time.sleep(1)\n",
    "    return df\n",
    "\n",
    "df_consumption_ = get_consumption_df(c)"
   ]
  },
  {
   "cell_type": "markdown",
   "id": "f35588f9",
   "metadata": {},
   "source": [
    "## Transform"
   ]
  },
  {
   "cell_type": "code",
   "execution_count": null,
   "id": "97d49319",
   "metadata": {},
   "outputs": [],
   "source": [
    "df_consumption = df_consumption_.copy()\n",
    "df_consumption[\"rawDataSizeGB\"] = df_consumption[\"rawDataSize\"] / (1024**3)\n",
    "df_consumption[\"lastUpdateDt\"] = pd.to_datetime(df_consumption[\"lastUpdate\"], unit='ms')\n",
    "df_consumption = df_consumption[[\"dataPoolId\", \"dataPoolName\", \"tableName\", \"rawDataSizeGB\", \"lastUpdateDt\"]]\n",
    "df_consumption.head()    "
   ]
  },
  {
   "cell_type": "markdown",
   "id": "de1b6e00",
   "metadata": {},
   "source": [
    "## Analyse"
   ]
  },
  {
   "cell_type": "code",
   "execution_count": null,
   "id": "369e9c6d",
   "metadata": {},
   "outputs": [],
   "source": [
    "df_consumption_summary = df_consumption.groupby([\"dataPoolId\", \"dataPoolName\"]).agg({\"rawDataSizeGB\":sum, \"lastUpdateDt\":min}).reset_index()\n",
    "df_consumption_summary = df_consumption_summary.sort_values(\"rawDataSizeGB\", ascending=False)"
   ]
  },
  {
   "cell_type": "code",
   "execution_count": null,
   "id": "a108f5bb",
   "metadata": {},
   "outputs": [],
   "source": [
    "df_consumption_summary[\"rawDataSizeGB\"].sum()"
   ]
  },
  {
   "cell_type": "code",
   "execution_count": null,
   "id": "2ea4a47c",
   "metadata": {},
   "outputs": [],
   "source": [
    "df_consumption_summary"
   ]
  },
  {
   "cell_type": "code",
   "execution_count": null,
   "id": "a9702873",
   "metadata": {},
   "outputs": [],
   "source": [
    "# Details per table\n",
    "df_consumption.sort_values(\"rawDataSizeGB\", ascending=False)"
   ]
  },
  {
   "cell_type": "markdown",
   "id": "bd112b97",
   "metadata": {},
   "source": [
    "## Export"
   ]
  },
  {
   "cell_type": "code",
   "execution_count": null,
   "id": "29d728b3",
   "metadata": {},
   "outputs": [],
   "source": [
    "def to_csv(df, name):\n",
    "    df.to_csv(f\"{name}_{dt.now().strftime('%Y-%m-%d_%Hh%M')}.csv\", sep=';', decimal=',')"
   ]
  },
  {
   "cell_type": "code",
   "execution_count": null,
   "id": "ad9f9cd7",
   "metadata": {},
   "outputs": [],
   "source": [
    "to_csv(df_consumption_summary, \"consumption_summary\")\n",
    "to_csv(df_consumption, \"consumption_details\")"
   ]
  }
 ],
 "metadata": {
  "kernelspec": {
   "display_name": "Python 3",
   "language": "python",
   "name": "python3"
  },
  "language_info": {
   "codemirror_mode": {
    "name": "ipython",
    "version": 3
   },
   "file_extension": ".py",
   "mimetype": "text/x-python",
   "name": "python",
   "nbconvert_exporter": "python",
   "pygments_lexer": "ipython3",
   "version": "3.8.8"
  }
 },
 "nbformat": 4,
 "nbformat_minor": 5
}
